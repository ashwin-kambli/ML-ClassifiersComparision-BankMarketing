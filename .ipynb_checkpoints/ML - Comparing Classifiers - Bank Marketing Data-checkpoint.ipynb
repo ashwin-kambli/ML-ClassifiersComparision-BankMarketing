{
 "cells": [
  {
   "cell_type": "code",
   "execution_count": 1,
   "id": "bef11899",
   "metadata": {},
   "outputs": [],
   "source": [
    "import pandas as pd\n",
    "import numpy as np\n",
    "import matplotlib.pyplot as plt\n",
    "\n",
    "from sklearn.model_selection import train_test_split\n",
    "from sklearn.metrics import confusion_matrix, precision_score, recall_score, accuracy_score, plot_confusion_matrix, ConfusionMatrixDisplay\n",
    "from sklearn.metrics import plot_confusion_matrix\n",
    "from sklearn.pipeline import Pipeline\n",
    "from sklearn.preprocessing import StandardScaler, OneHotEncoder\n",
    "from sklearn.metrics import confusion_matrix, precision_score, recall_score, accuracy_score, plot_confusion_matrix, ConfusionMatrixDisplay\n",
    "from sklearn.metrics import plot_confusion_matrix"
   ]
  },
  {
   "cell_type": "code",
   "execution_count": 2,
   "id": "2e218f24",
   "metadata": {
    "scrolled": true
   },
   "outputs": [
    {
     "data": {
      "text/html": [
       "<div>\n",
       "<style scoped>\n",
       "    .dataframe tbody tr th:only-of-type {\n",
       "        vertical-align: middle;\n",
       "    }\n",
       "\n",
       "    .dataframe tbody tr th {\n",
       "        vertical-align: top;\n",
       "    }\n",
       "\n",
       "    .dataframe thead th {\n",
       "        text-align: right;\n",
       "    }\n",
       "</style>\n",
       "<table border=\"1\" class=\"dataframe\">\n",
       "  <thead>\n",
       "    <tr style=\"text-align: right;\">\n",
       "      <th></th>\n",
       "      <th>age</th>\n",
       "      <th>job</th>\n",
       "      <th>marital</th>\n",
       "      <th>education</th>\n",
       "      <th>default</th>\n",
       "      <th>balance</th>\n",
       "      <th>housing</th>\n",
       "      <th>loan</th>\n",
       "      <th>contact</th>\n",
       "      <th>day</th>\n",
       "      <th>month</th>\n",
       "      <th>duration</th>\n",
       "      <th>campaign</th>\n",
       "      <th>pdays</th>\n",
       "      <th>previous</th>\n",
       "      <th>poutcome</th>\n",
       "      <th>y</th>\n",
       "    </tr>\n",
       "  </thead>\n",
       "  <tbody>\n",
       "    <tr>\n",
       "      <th>0</th>\n",
       "      <td>58</td>\n",
       "      <td>management</td>\n",
       "      <td>married</td>\n",
       "      <td>tertiary</td>\n",
       "      <td>no</td>\n",
       "      <td>2143</td>\n",
       "      <td>yes</td>\n",
       "      <td>no</td>\n",
       "      <td>unknown</td>\n",
       "      <td>5</td>\n",
       "      <td>may</td>\n",
       "      <td>261</td>\n",
       "      <td>1</td>\n",
       "      <td>-1</td>\n",
       "      <td>0</td>\n",
       "      <td>unknown</td>\n",
       "      <td>no</td>\n",
       "    </tr>\n",
       "    <tr>\n",
       "      <th>1</th>\n",
       "      <td>44</td>\n",
       "      <td>technician</td>\n",
       "      <td>single</td>\n",
       "      <td>secondary</td>\n",
       "      <td>no</td>\n",
       "      <td>29</td>\n",
       "      <td>yes</td>\n",
       "      <td>no</td>\n",
       "      <td>unknown</td>\n",
       "      <td>5</td>\n",
       "      <td>may</td>\n",
       "      <td>151</td>\n",
       "      <td>1</td>\n",
       "      <td>-1</td>\n",
       "      <td>0</td>\n",
       "      <td>unknown</td>\n",
       "      <td>no</td>\n",
       "    </tr>\n",
       "    <tr>\n",
       "      <th>2</th>\n",
       "      <td>33</td>\n",
       "      <td>entrepreneur</td>\n",
       "      <td>married</td>\n",
       "      <td>secondary</td>\n",
       "      <td>no</td>\n",
       "      <td>2</td>\n",
       "      <td>yes</td>\n",
       "      <td>yes</td>\n",
       "      <td>unknown</td>\n",
       "      <td>5</td>\n",
       "      <td>may</td>\n",
       "      <td>76</td>\n",
       "      <td>1</td>\n",
       "      <td>-1</td>\n",
       "      <td>0</td>\n",
       "      <td>unknown</td>\n",
       "      <td>no</td>\n",
       "    </tr>\n",
       "    <tr>\n",
       "      <th>3</th>\n",
       "      <td>47</td>\n",
       "      <td>blue-collar</td>\n",
       "      <td>married</td>\n",
       "      <td>unknown</td>\n",
       "      <td>no</td>\n",
       "      <td>1506</td>\n",
       "      <td>yes</td>\n",
       "      <td>no</td>\n",
       "      <td>unknown</td>\n",
       "      <td>5</td>\n",
       "      <td>may</td>\n",
       "      <td>92</td>\n",
       "      <td>1</td>\n",
       "      <td>-1</td>\n",
       "      <td>0</td>\n",
       "      <td>unknown</td>\n",
       "      <td>no</td>\n",
       "    </tr>\n",
       "    <tr>\n",
       "      <th>4</th>\n",
       "      <td>33</td>\n",
       "      <td>unknown</td>\n",
       "      <td>single</td>\n",
       "      <td>unknown</td>\n",
       "      <td>no</td>\n",
       "      <td>1</td>\n",
       "      <td>no</td>\n",
       "      <td>no</td>\n",
       "      <td>unknown</td>\n",
       "      <td>5</td>\n",
       "      <td>may</td>\n",
       "      <td>198</td>\n",
       "      <td>1</td>\n",
       "      <td>-1</td>\n",
       "      <td>0</td>\n",
       "      <td>unknown</td>\n",
       "      <td>no</td>\n",
       "    </tr>\n",
       "  </tbody>\n",
       "</table>\n",
       "</div>"
      ],
      "text/plain": [
       "   age           job  marital  education default  balance housing loan  \\\n",
       "0   58    management  married   tertiary      no     2143     yes   no   \n",
       "1   44    technician   single  secondary      no       29     yes   no   \n",
       "2   33  entrepreneur  married  secondary      no        2     yes  yes   \n",
       "3   47   blue-collar  married    unknown      no     1506     yes   no   \n",
       "4   33       unknown   single    unknown      no        1      no   no   \n",
       "\n",
       "   contact  day month  duration  campaign  pdays  previous poutcome   y  \n",
       "0  unknown    5   may       261         1     -1         0  unknown  no  \n",
       "1  unknown    5   may       151         1     -1         0  unknown  no  \n",
       "2  unknown    5   may        76         1     -1         0  unknown  no  \n",
       "3  unknown    5   may        92         1     -1         0  unknown  no  \n",
       "4  unknown    5   may       198         1     -1         0  unknown  no  "
      ]
     },
     "execution_count": 2,
     "metadata": {},
     "output_type": "execute_result"
    }
   ],
   "source": [
    "bank = pd.read_csv('data/bank/bank-full.csv',sep=';', quotechar='\"').dropna()\n",
    "bank.head()"
   ]
  },
  {
   "cell_type": "code",
   "execution_count": 3,
   "id": "76103f7e",
   "metadata": {
    "scrolled": true
   },
   "outputs": [
    {
     "name": "stdout",
     "output_type": "stream",
     "text": [
      "<class 'pandas.core.frame.DataFrame'>\n",
      "RangeIndex: 45211 entries, 0 to 45210\n",
      "Data columns (total 17 columns):\n",
      " #   Column     Non-Null Count  Dtype \n",
      "---  ------     --------------  ----- \n",
      " 0   age        45211 non-null  int64 \n",
      " 1   job        45211 non-null  object\n",
      " 2   marital    45211 non-null  object\n",
      " 3   education  45211 non-null  object\n",
      " 4   default    45211 non-null  object\n",
      " 5   balance    45211 non-null  int64 \n",
      " 6   housing    45211 non-null  object\n",
      " 7   loan       45211 non-null  object\n",
      " 8   contact    45211 non-null  object\n",
      " 9   day        45211 non-null  int64 \n",
      " 10  month      45211 non-null  object\n",
      " 11  duration   45211 non-null  int64 \n",
      " 12  campaign   45211 non-null  int64 \n",
      " 13  pdays      45211 non-null  int64 \n",
      " 14  previous   45211 non-null  int64 \n",
      " 15  poutcome   45211 non-null  object\n",
      " 16  y          45211 non-null  object\n",
      "dtypes: int64(7), object(10)\n",
      "memory usage: 5.9+ MB\n"
     ]
    }
   ],
   "source": [
    "bank.info()"
   ]
  },
  {
   "cell_type": "code",
   "execution_count": 4,
   "id": "d755fd87",
   "metadata": {},
   "outputs": [
    {
     "data": {
      "text/plain": [
       "education\n",
       "primary       6851\n",
       "secondary    23202\n",
       "tertiary     13301\n",
       "unknown       1857\n",
       "Name: education, dtype: int64"
      ]
     },
     "execution_count": 4,
     "metadata": {},
     "output_type": "execute_result"
    }
   ],
   "source": [
    "feature = 'education'\n",
    "bank.groupby([feature])[feature].count()"
   ]
  },
  {
   "cell_type": "code",
   "execution_count": 10,
   "id": "828ebebd",
   "metadata": {},
   "outputs": [
    {
     "data": {
      "text/plain": [
       "education\n",
       "primary       6851\n",
       "secondary    23202\n",
       "tertiary     13301\n",
       "unknown       1857\n",
       "Name: education, dtype: int64"
      ]
     },
     "execution_count": 10,
     "metadata": {},
     "output_type": "execute_result"
    }
   ],
   "source": [
    "bank.groupby(['education'])['education'].count()"
   ]
  },
  {
   "cell_type": "code",
   "execution_count": 5,
   "id": "bd6660e2",
   "metadata": {
    "scrolled": true
   },
   "outputs": [
    {
     "data": {
      "text/plain": [
       "job\n",
       "admin.           5171\n",
       "blue-collar      9732\n",
       "entrepreneur     1487\n",
       "housemaid        1240\n",
       "management       9458\n",
       "retired          2264\n",
       "self-employed    1579\n",
       "services         4154\n",
       "student           938\n",
       "technician       7597\n",
       "unemployed       1303\n",
       "unknown           288\n",
       "Name: job, dtype: int64"
      ]
     },
     "execution_count": 5,
     "metadata": {},
     "output_type": "execute_result"
    }
   ],
   "source": [
    "bank.groupby(['job'])['job'].count()"
   ]
  },
  {
   "cell_type": "code",
   "execution_count": 6,
   "id": "e97b9fa0",
   "metadata": {
    "scrolled": true
   },
   "outputs": [
    {
     "data": {
      "text/plain": [
       "y\n",
       "no     39922\n",
       "yes     5289\n",
       "Name: y, dtype: int64"
      ]
     },
     "execution_count": 6,
     "metadata": {},
     "output_type": "execute_result"
    }
   ],
   "source": [
    "bank.groupby(['y'])['y'].count()"
   ]
  },
  {
   "cell_type": "code",
   "execution_count": 5,
   "id": "8c8c5817",
   "metadata": {},
   "outputs": [
    {
     "data": {
      "text/plain": [
       "education\n",
       "basic.4y                429\n",
       "basic.6y                228\n",
       "basic.9y                574\n",
       "high.school             921\n",
       "illiterate                1\n",
       "professional.course     535\n",
       "university.degree      1264\n",
       "unknown                 167\n",
       "Name: education, dtype: int64"
      ]
     },
     "execution_count": 5,
     "metadata": {},
     "output_type": "execute_result"
    }
   ],
   "source": [
    "bank_additional.groupby(['education'])['education'].count()"
   ]
  },
  {
   "cell_type": "code",
   "execution_count": 6,
   "id": "768d24e4",
   "metadata": {
    "scrolled": true
   },
   "outputs": [
    {
     "data": {
      "text/plain": [
       "y\n",
       "no     3668\n",
       "yes     451\n",
       "Name: y, dtype: int64"
      ]
     },
     "execution_count": 6,
     "metadata": {},
     "output_type": "execute_result"
    }
   ],
   "source": [
    "bank_additional.groupby(['y'])['y'].count()"
   ]
  },
  {
   "cell_type": "markdown",
   "id": "5cb19595",
   "metadata": {},
   "source": [
    "### Data Preparation"
   ]
  },
  {
   "cell_type": "code",
   "execution_count": 5,
   "id": "2c078d61",
   "metadata": {},
   "outputs": [],
   "source": [
    "from sklearn.preprocessing import PolynomialFeatures, OneHotEncoder, OrdinalEncoder, LabelEncoder, StandardScaler"
   ]
  },
  {
   "cell_type": "code",
   "execution_count": 6,
   "id": "0ec71d8d",
   "metadata": {},
   "outputs": [],
   "source": [
    "from sklearn.model_selection import train_test_split"
   ]
  },
  {
   "cell_type": "code",
   "execution_count": 7,
   "id": "7678b929",
   "metadata": {},
   "outputs": [],
   "source": [
    "from sklearn.compose import make_column_transformer, make_column_selector\n",
    "from sklearn.pipeline import Pipeline"
   ]
  },
  {
   "cell_type": "code",
   "execution_count": 8,
   "id": "36d52e8c",
   "metadata": {},
   "outputs": [
    {
     "data": {
      "text/html": [
       "<div>\n",
       "<style scoped>\n",
       "    .dataframe tbody tr th:only-of-type {\n",
       "        vertical-align: middle;\n",
       "    }\n",
       "\n",
       "    .dataframe tbody tr th {\n",
       "        vertical-align: top;\n",
       "    }\n",
       "\n",
       "    .dataframe thead th {\n",
       "        text-align: right;\n",
       "    }\n",
       "</style>\n",
       "<table border=\"1\" class=\"dataframe\">\n",
       "  <thead>\n",
       "    <tr style=\"text-align: right;\">\n",
       "      <th></th>\n",
       "      <th>age</th>\n",
       "      <th>job</th>\n",
       "      <th>marital</th>\n",
       "      <th>education</th>\n",
       "      <th>default</th>\n",
       "      <th>balance</th>\n",
       "      <th>housing</th>\n",
       "      <th>loan</th>\n",
       "      <th>contact</th>\n",
       "      <th>day</th>\n",
       "      <th>month</th>\n",
       "      <th>duration</th>\n",
       "      <th>campaign</th>\n",
       "      <th>pdays</th>\n",
       "      <th>previous</th>\n",
       "      <th>poutcome</th>\n",
       "      <th>y</th>\n",
       "    </tr>\n",
       "  </thead>\n",
       "  <tbody>\n",
       "    <tr>\n",
       "      <th>0</th>\n",
       "      <td>58</td>\n",
       "      <td>management</td>\n",
       "      <td>married</td>\n",
       "      <td>tertiary</td>\n",
       "      <td>no</td>\n",
       "      <td>2143</td>\n",
       "      <td>yes</td>\n",
       "      <td>no</td>\n",
       "      <td>unknown</td>\n",
       "      <td>5</td>\n",
       "      <td>may</td>\n",
       "      <td>261</td>\n",
       "      <td>1</td>\n",
       "      <td>-1</td>\n",
       "      <td>0</td>\n",
       "      <td>unknown</td>\n",
       "      <td>no</td>\n",
       "    </tr>\n",
       "    <tr>\n",
       "      <th>1</th>\n",
       "      <td>44</td>\n",
       "      <td>technician</td>\n",
       "      <td>single</td>\n",
       "      <td>secondary</td>\n",
       "      <td>no</td>\n",
       "      <td>29</td>\n",
       "      <td>yes</td>\n",
       "      <td>no</td>\n",
       "      <td>unknown</td>\n",
       "      <td>5</td>\n",
       "      <td>may</td>\n",
       "      <td>151</td>\n",
       "      <td>1</td>\n",
       "      <td>-1</td>\n",
       "      <td>0</td>\n",
       "      <td>unknown</td>\n",
       "      <td>no</td>\n",
       "    </tr>\n",
       "    <tr>\n",
       "      <th>2</th>\n",
       "      <td>33</td>\n",
       "      <td>entrepreneur</td>\n",
       "      <td>married</td>\n",
       "      <td>secondary</td>\n",
       "      <td>no</td>\n",
       "      <td>2</td>\n",
       "      <td>yes</td>\n",
       "      <td>yes</td>\n",
       "      <td>unknown</td>\n",
       "      <td>5</td>\n",
       "      <td>may</td>\n",
       "      <td>76</td>\n",
       "      <td>1</td>\n",
       "      <td>-1</td>\n",
       "      <td>0</td>\n",
       "      <td>unknown</td>\n",
       "      <td>no</td>\n",
       "    </tr>\n",
       "    <tr>\n",
       "      <th>3</th>\n",
       "      <td>47</td>\n",
       "      <td>blue-collar</td>\n",
       "      <td>married</td>\n",
       "      <td>unknown</td>\n",
       "      <td>no</td>\n",
       "      <td>1506</td>\n",
       "      <td>yes</td>\n",
       "      <td>no</td>\n",
       "      <td>unknown</td>\n",
       "      <td>5</td>\n",
       "      <td>may</td>\n",
       "      <td>92</td>\n",
       "      <td>1</td>\n",
       "      <td>-1</td>\n",
       "      <td>0</td>\n",
       "      <td>unknown</td>\n",
       "      <td>no</td>\n",
       "    </tr>\n",
       "    <tr>\n",
       "      <th>4</th>\n",
       "      <td>33</td>\n",
       "      <td>unknown</td>\n",
       "      <td>single</td>\n",
       "      <td>unknown</td>\n",
       "      <td>no</td>\n",
       "      <td>1</td>\n",
       "      <td>no</td>\n",
       "      <td>no</td>\n",
       "      <td>unknown</td>\n",
       "      <td>5</td>\n",
       "      <td>may</td>\n",
       "      <td>198</td>\n",
       "      <td>1</td>\n",
       "      <td>-1</td>\n",
       "      <td>0</td>\n",
       "      <td>unknown</td>\n",
       "      <td>no</td>\n",
       "    </tr>\n",
       "  </tbody>\n",
       "</table>\n",
       "</div>"
      ],
      "text/plain": [
       "   age           job  marital  education default  balance housing loan  \\\n",
       "0   58    management  married   tertiary      no     2143     yes   no   \n",
       "1   44    technician   single  secondary      no       29     yes   no   \n",
       "2   33  entrepreneur  married  secondary      no        2     yes  yes   \n",
       "3   47   blue-collar  married    unknown      no     1506     yes   no   \n",
       "4   33       unknown   single    unknown      no        1      no   no   \n",
       "\n",
       "   contact  day month  duration  campaign  pdays  previous poutcome   y  \n",
       "0  unknown    5   may       261         1     -1         0  unknown  no  \n",
       "1  unknown    5   may       151         1     -1         0  unknown  no  \n",
       "2  unknown    5   may        76         1     -1         0  unknown  no  \n",
       "3  unknown    5   may        92         1     -1         0  unknown  no  \n",
       "4  unknown    5   may       198         1     -1         0  unknown  no  "
      ]
     },
     "execution_count": 8,
     "metadata": {},
     "output_type": "execute_result"
    }
   ],
   "source": [
    "bank.head()"
   ]
  },
  {
   "cell_type": "code",
   "execution_count": null,
   "id": "8b3eaa4e",
   "metadata": {},
   "outputs": [],
   "source": [
    "### Data Tranformations needed: \n",
    "# 1. Job -> OrdinalEncoder in this order: ['entrepreneur', 'management', 'admin.', 'self-employed', 'retired', 'services', 'student', 'technician', 'blue-collar', 'housemaid', 'unemployed', 'unknown']\n",
    "# 2. marital -> OnHotEncoder\n",
    "# 3. education -> OrdinalEncoder in this order: ['primary', 'secondary', 'tertiary', 'unknown']\n",
    "# 4. default -> OneHotEncoder\n",
    "# 5. housing -> OneHotEncoder\n",
    "# 6. Loan -> OneHotEncoder\n",
    "# 7. contact, day, month, pdays -> Dropping these features as they are not important\n",
    "# 8. poutcome -> onehotencoder "
   ]
  },
  {
   "cell_type": "code",
   "execution_count": 9,
   "id": "842dfd09",
   "metadata": {},
   "outputs": [],
   "source": [
    "### Based on the above data analysis, I have settled on the following features to use in my model: \n",
    "shortlisted_features = ['age', 'job', 'marital', 'education', 'default', 'housing', 'loan', 'duration','campaign', 'previous', 'poutcome']\n",
    "X = bank[shortlisted_features]\n",
    "y = bank['y']"
   ]
  },
  {
   "cell_type": "code",
   "execution_count": 10,
   "id": "fb6d1ff3",
   "metadata": {},
   "outputs": [],
   "source": [
    "X_train, X_test, y_train, y_test = train_test_split(X,y, test_size=0.3, stratify = y, random_state=22)"
   ]
  },
  {
   "cell_type": "code",
   "execution_count": 61,
   "id": "c1c1fd1f",
   "metadata": {},
   "outputs": [
    {
     "data": {
      "text/plain": [
       "array([[ 0.        ,  0.        ,  1.        ,  0.        ,  1.        ,\n",
       "         0.        ,  0.        ,  0.        ,  0.        ,  1.        ,\n",
       "         7.        ,  1.        , -0.74915284, -0.49043237, -0.24566602,\n",
       "        -0.29821218],\n",
       "       [ 0.        ,  1.        ,  0.        ,  0.        ,  0.        ,\n",
       "         0.        ,  0.        ,  0.        ,  0.        ,  1.        ,\n",
       "         5.        ,  1.        , -0.27924703,  0.39483056,  0.07718571,\n",
       "        -0.29821218],\n",
       "       [ 0.        ,  0.        ,  1.        ,  0.        ,  0.        ,\n",
       "         0.        ,  0.        ,  0.        ,  0.        ,  1.        ,\n",
       "         6.        ,  2.        , -1.12507749,  2.44879588,  0.72288917,\n",
       "        -0.29821218],\n",
       "       [ 0.        ,  1.        ,  0.        ,  0.        ,  0.        ,\n",
       "         0.        ,  0.        ,  1.        ,  0.        ,  0.        ,\n",
       "         8.        ,  1.        , -0.843134  , -0.10604189, -0.24566602,\n",
       "         0.21439012],\n",
       "       [ 0.        ,  0.        ,  1.        ,  0.        ,  1.        ,\n",
       "         0.        ,  0.        ,  0.        ,  0.        ,  1.        ,\n",
       "         5.        ,  1.        , -0.93711516, -0.57196975, -0.24566602,\n",
       "        -0.29821218]])"
      ]
     },
     "execution_count": 61,
     "metadata": {},
     "output_type": "execute_result"
    }
   ],
   "source": [
    "### Let us prepare our transformer: \n",
    "\n",
    "transformer = make_column_transformer(\n",
    "    (OneHotEncoder(drop = 'if_binary'), ['marital','default', 'housing', 'loan', 'poutcome']),\n",
    "    (OrdinalEncoder(categories = [['entrepreneur', 'management', 'admin.', 'self-employed', 'retired', 'services', 'student', 'technician', 'blue-collar', 'housemaid', 'unemployed', 'unknown']]), ['job']),\n",
    "    (OrdinalEncoder(categories = [['primary', 'secondary', 'tertiary', 'unknown']]), ['education']),\n",
    "    (StandardScaler(), ['age', 'duration','campaign', 'previous']), #We want the numeric features to be scaled. \n",
    "    remainder='passthrough')\n",
    "transformer.fit_transform(X_train)[:5]"
   ]
  },
  {
   "cell_type": "code",
   "execution_count": null,
   "id": "7bff6af4",
   "metadata": {},
   "outputs": [],
   "source": []
  },
  {
   "cell_type": "code",
   "execution_count": 12,
   "id": "8f980d0b",
   "metadata": {},
   "outputs": [],
   "source": [
    "### Function to extract column names since ORdinalEncoder does not provide the get_feature_names_out function\n",
    "### Source: https://johaupt.github.io/blog/columnTransformer_feature_names.html\n",
    "def get_feature_names(column_transformer):\n",
    "    \"\"\"Get feature names from all transformers.\n",
    "    Returns\n",
    "    -------\n",
    "    feature_names : list of strings\n",
    "        Names of the features produced by transform.\n",
    "    \"\"\"\n",
    "    # Remove the internal helper function\n",
    "    #check_is_fitted(column_transformer)\n",
    "    \n",
    "    # Turn loopkup into function for better handling with pipeline later\n",
    "    def get_names(trans):\n",
    "        # >> Original get_feature_names() method\n",
    "        if trans == 'drop' or (\n",
    "                hasattr(column, '__len__') and not len(column)):\n",
    "            return []\n",
    "        if trans == 'passthrough':\n",
    "            if hasattr(column_transformer, '_df_columns'):\n",
    "                if ((not isinstance(column, slice))\n",
    "                        and all(isinstance(col, str) for col in column)):\n",
    "                    return column\n",
    "                else:\n",
    "                    return column_transformer._df_columns[column]\n",
    "            else:\n",
    "                indices = np.arange(column_transformer._n_features)\n",
    "                return ['x%d' % i for i in indices[column]]\n",
    "        if not hasattr(trans, 'get_feature_names'):\n",
    "        # >>> Change: Return input column names if no method avaiable\n",
    "            # Turn error into a warning\n",
    "            warnings.warn(\"Transformer %s (type %s) does not \"\n",
    "                                 \"provide get_feature_names. \"\n",
    "                                 \"Will return input column names if available\"\n",
    "                                 % (str(name), type(trans).__name__))\n",
    "            # For transformers without a get_features_names method, use the input\n",
    "            # names to the column transformer\n",
    "            if column is None:\n",
    "                return []\n",
    "            else:\n",
    "                return [name + \"__\" + f for f in column]\n",
    "\n",
    "        return [name + \"__\" + f for f in trans.get_feature_names()]\n",
    "    \n",
    "    ### Start of processing\n",
    "    feature_names = []\n",
    "    \n",
    "    # Allow transformers to be pipelines. Pipeline steps are named differently, so preprocessing is needed\n",
    "    if type(column_transformer) == Pipeline:\n",
    "        l_transformers = [(name, trans, None, None) for step, name, trans in column_transformer._iter()]\n",
    "    else:\n",
    "        # For column transformers, follow the original method\n",
    "        l_transformers = list(column_transformer._iter(fitted=True))\n",
    "    \n",
    "    \n",
    "    for name, trans, column, _ in l_transformers: \n",
    "        if type(trans) == Pipeline:\n",
    "            # Recursive call on pipeline\n",
    "            _names = get_feature_names(trans)\n",
    "            # if pipeline has no transformer that returns names\n",
    "            if len(_names)==0:\n",
    "                _names = [name + \"__\" + f for f in column]\n",
    "            feature_names.extend(_names)\n",
    "        else:\n",
    "            feature_names.extend(get_names(trans))\n",
    "    \n",
    "    return feature_names"
   ]
  },
  {
   "cell_type": "code",
   "execution_count": 62,
   "id": "ac9999ef",
   "metadata": {},
   "outputs": [
    {
     "data": {
      "text/plain": [
       "['marital_divorced',\n",
       " 'marital_married',\n",
       " 'marital_single',\n",
       " 'default_yes',\n",
       " 'housing_yes',\n",
       " 'loan_yes',\n",
       " 'poutcome_failure',\n",
       " 'poutcome_other',\n",
       " 'poutcome_success',\n",
       " 'poutcome_unknown',\n",
       " 'job',\n",
       " 'education',\n",
       " 'age',\n",
       " 'duration',\n",
       " 'campaign',\n",
       " 'previous']"
      ]
     },
     "execution_count": 62,
     "metadata": {},
     "output_type": "execute_result"
    }
   ],
   "source": [
    "#Get the transformed feature names out\n",
    "tx_feature_names = get_feature_names(transformer)\n",
    "mapping = { \n",
    "    'onehotencoder__x0':'marital',\n",
    "    'onehotencoder__x1':'default',   \n",
    "    'onehotencoder__x2':'housing',\n",
    "    'onehotencoder__x3': 'loan', \n",
    "    'onehotencoder__x4':'poutcome', \n",
    "    'ordinalencoder-1__':'', \n",
    "    'ordinalencoder-2__':'',\n",
    "    'x0': shortlisted_features[0],\n",
    "    'x7': shortlisted_features[7],\n",
    "    'x8': shortlisted_features[8],\n",
    "    'x9': shortlisted_features[9],\n",
    "    'standardscaler__': ''\n",
    "}\n",
    "\n",
    "for i in range(0,len(tx_feature_names)): \n",
    "    for k, v in mapping.items():\n",
    "        tx_feature_names[i] = tx_feature_names[i].replace(k, v)\n",
    "        \n",
    "tx_feature_names "
   ]
  },
  {
   "cell_type": "markdown",
   "id": "84b7e0b1",
   "metadata": {},
   "source": [
    "### Let's test the setup with one classifier: "
   ]
  },
  {
   "cell_type": "markdown",
   "id": "2d1fb23e",
   "metadata": {},
   "source": [
    "#### K-Nearest Neighbors"
   ]
  },
  {
   "cell_type": "code",
   "execution_count": 63,
   "id": "d7b4336a",
   "metadata": {},
   "outputs": [],
   "source": [
    "from sklearn.neighbors import KNeighborsClassifier\n",
    "from sklearn.model_selection import GridSearchCV\n",
    "import warnings\n",
    "warnings.filterwarnings('ignore')"
   ]
  },
  {
   "cell_type": "code",
   "execution_count": 66,
   "id": "25857c79",
   "metadata": {},
   "outputs": [],
   "source": [
    "knn_param_grid = {\n",
    "    'model__n_neighbors': [3, 5, 7],\n",
    "    'model__weights': ['uniform', 'distance']\n",
    "}\n",
    "knn_pipe = Pipeline([\n",
    "    ('preprocessor', transformer),\n",
    "    ('model', KNeighborsClassifier())\n",
    "])"
   ]
  },
  {
   "cell_type": "code",
   "execution_count": 67,
   "id": "70a30d00",
   "metadata": {},
   "outputs": [
    {
     "name": "stdout",
     "output_type": "stream",
     "text": [
      "CPU times: total: 3min 31s\n",
      "Wall time: 1min 23s\n"
     ]
    },
    {
     "data": {
      "text/plain": [
       "GridSearchCV(cv=5,\n",
       "             estimator=Pipeline(steps=[('preprocessor',\n",
       "                                        ColumnTransformer(remainder='passthrough',\n",
       "                                                          transformers=[('onehotencoder',\n",
       "                                                                         OneHotEncoder(drop='if_binary'),\n",
       "                                                                         ['marital',\n",
       "                                                                          'default',\n",
       "                                                                          'housing',\n",
       "                                                                          'loan',\n",
       "                                                                          'poutcome']),\n",
       "                                                                        ('ordinalencoder-1',\n",
       "                                                                         OrdinalEncoder(categories=[['entrepreneur',\n",
       "                                                                                                     'management',\n",
       "                                                                                                     'admin.',\n",
       "                                                                                                     'self-employed',\n",
       "                                                                                                     'retired',\n",
       "                                                                                                     'services',\n",
       "                                                                                                     'student',\n",
       "                                                                                                     't...\n",
       "                                                                                                     'housemaid',\n",
       "                                                                                                     'unemployed',\n",
       "                                                                                                     'unknown']]),\n",
       "                                                                         ['job']),\n",
       "                                                                        ('ordinalencoder-2',\n",
       "                                                                         OrdinalEncoder(categories=[['primary',\n",
       "                                                                                                     'secondary',\n",
       "                                                                                                     'tertiary',\n",
       "                                                                                                     'unknown']]),\n",
       "                                                                         ['education']),\n",
       "                                                                        ('standardscaler',\n",
       "                                                                         StandardScaler(),\n",
       "                                                                         ['age',\n",
       "                                                                          'duration',\n",
       "                                                                          'campaign',\n",
       "                                                                          'previous'])])),\n",
       "                                       ('model', KNeighborsClassifier())]),\n",
       "             param_grid={'model__n_neighbors': [3, 5, 7],\n",
       "                         'model__weights': ['uniform', 'distance']})"
      ]
     },
     "execution_count": 67,
     "metadata": {},
     "output_type": "execute_result"
    }
   ],
   "source": [
    "%%time\n",
    "\n",
    "knn_grid = GridSearchCV(knn_pipe, param_grid=knn_param_grid, cv=5)\n",
    "knn_grid.fit(X_train, y_train)"
   ]
  },
  {
   "cell_type": "code",
   "execution_count": 68,
   "id": "d9c63433",
   "metadata": {},
   "outputs": [
    {
     "name": "stdout",
     "output_type": "stream",
     "text": [
      "Best parameters: {'model__n_neighbors': 7, 'model__weights': 'uniform'}\n",
      "Best score: 0.8941131385230653\n"
     ]
    }
   ],
   "source": [
    "# Print the best parameters and score\n",
    "print(\"Best parameters:\", knn_grid.best_params_)\n",
    "print(\"Best score:\", knn_grid.best_score_)"
   ]
  },
  {
   "cell_type": "code",
   "execution_count": 69,
   "id": "07532c53",
   "metadata": {},
   "outputs": [
    {
     "data": {
      "text/plain": [
       "array(['no', 'no', 'no', ..., 'no', 'no', 'no'], dtype=object)"
      ]
     },
     "execution_count": 69,
     "metadata": {},
     "output_type": "execute_result"
    }
   ],
   "source": [
    "knn_predictions = knn_grid.predict(X_test)\n",
    "knn_predictions"
   ]
  },
  {
   "cell_type": "code",
   "execution_count": 70,
   "id": "1e2349e2",
   "metadata": {},
   "outputs": [
    {
     "name": "stdout",
     "output_type": "stream",
     "text": [
      "K Nearest Neighbors (precision, recall): (0.5739130434782609,0.332703213610586)\n"
     ]
    }
   ],
   "source": [
    "pos_label = 'yes'\n",
    "knn_precision, knn_recall = precision_score(y_test, knn_predictions, pos_label=pos_label), recall_score(y_test, knn_predictions, pos_label=pos_label)\n",
    "print(f'K Nearest Neighbors (precision, recall): ({knn_precision},{knn_recall})')"
   ]
  },
  {
   "cell_type": "code",
   "execution_count": 71,
   "id": "35da61af",
   "metadata": {
    "scrolled": true
   },
   "outputs": [
    {
     "data": {
      "text/plain": [
       "Text(0.5, 1.0, 'K Nearest Neighbors Model')"
      ]
     },
     "execution_count": 71,
     "metadata": {},
     "output_type": "execute_result"
    },
    {
     "data": {
      "image/png": "[encoded data removed]",
      "text/plain": [
       "<Figure size 640x480 with 2 Axes>"
      ]
     },
     "metadata": {},
     "output_type": "display_data"
    }
   ],
   "source": [
    "ConfusionMatrixDisplay.from_predictions(\n",
    "    y_true = y_test, \n",
    "    y_pred = knn_predictions, \n",
    "    labels = ['no','yes'],\n",
    "    display_labels=[\"Didn't Subscribe\",'Subscribed']\n",
    ")\n",
    "plt.title('K Nearest Neighbors Model')"
   ]
  },
  {
   "cell_type": "code",
   "execution_count": 72,
   "id": "ba0e88cc",
   "metadata": {},
   "outputs": [
    {
     "name": "stdout",
     "output_type": "stream",
     "text": [
      "y_test(yes, no) :: (1587,11977)\n",
      "knn_predictions(yes, no) :: (920,12644)\n"
     ]
    }
   ],
   "source": [
    "print(f'y_test(yes, no) :: ({list(y_test).count(\"yes\")},{list(y_test).count(\"no\")})')\n",
    "print(f'knn_predictions(yes, no) :: ({list(knn_predictions).count(\"yes\")},{list(knn_predictions).count(\"no\")})')"
   ]
  },
  {
   "cell_type": "markdown",
   "id": "e1f8d2c9",
   "metadata": {},
   "source": [
    "#### Logistic Regression"
   ]
  },
  {
   "cell_type": "code",
   "execution_count": 21,
   "id": "1ea331ba",
   "metadata": {},
   "outputs": [],
   "source": [
    "from sklearn.linear_model import LogisticRegression"
   ]
  },
  {
   "cell_type": "code",
   "execution_count": 73,
   "id": "df1dc974",
   "metadata": {},
   "outputs": [],
   "source": [
    "lr_param_grid = {\n",
    "    'model__penalty': ['l1', 'l2'],\n",
    "    'model__C': [0.1, 1, 10, 100]\n",
    "}\n",
    "\n",
    "lr_pipe = Pipeline([\n",
    "    ('preprocessor', transformer),\n",
    "    ('model', LogisticRegression())\n",
    "])\n"
   ]
  },
  {
   "cell_type": "code",
   "execution_count": 74,
   "id": "0e4da49b",
   "metadata": {},
   "outputs": [
    {
     "name": "stdout",
     "output_type": "stream",
     "text": [
      "CPU times: total: 26.6 s\n",
      "Wall time: 4.53 s\n"
     ]
    },
    {
     "data": {
      "text/plain": [
       "GridSearchCV(cv=5,\n",
       "             estimator=Pipeline(steps=[('preprocessor',\n",
       "                                        ColumnTransformer(remainder='passthrough',\n",
       "                                                          transformers=[('onehotencoder',\n",
       "                                                                         OneHotEncoder(drop='if_binary'),\n",
       "                                                                         ['marital',\n",
       "                                                                          'default',\n",
       "                                                                          'housing',\n",
       "                                                                          'loan',\n",
       "                                                                          'poutcome']),\n",
       "                                                                        ('ordinalencoder-1',\n",
       "                                                                         OrdinalEncoder(categories=[['entrepreneur',\n",
       "                                                                                                     'management',\n",
       "                                                                                                     'admin.',\n",
       "                                                                                                     'self-employed',\n",
       "                                                                                                     'retired',\n",
       "                                                                                                     'services',\n",
       "                                                                                                     'student',\n",
       "                                                                                                     't...\n",
       "                                                                                                     'blue-collar',\n",
       "                                                                                                     'housemaid',\n",
       "                                                                                                     'unemployed',\n",
       "                                                                                                     'unknown']]),\n",
       "                                                                         ['job']),\n",
       "                                                                        ('ordinalencoder-2',\n",
       "                                                                         OrdinalEncoder(categories=[['primary',\n",
       "                                                                                                     'secondary',\n",
       "                                                                                                     'tertiary',\n",
       "                                                                                                     'unknown']]),\n",
       "                                                                         ['education']),\n",
       "                                                                        ('standardscaler',\n",
       "                                                                         StandardScaler(),\n",
       "                                                                         ['age',\n",
       "                                                                          'duration',\n",
       "                                                                          'campaign',\n",
       "                                                                          'previous'])])),\n",
       "                                       ('model', LogisticRegression())]),\n",
       "             param_grid={'model__C': [0.1, 1, 10, 100],\n",
       "                         'model__penalty': ['l1', 'l2']})"
      ]
     },
     "execution_count": 74,
     "metadata": {},
     "output_type": "execute_result"
    }
   ],
   "source": [
    "%%time\n",
    "lr_grid = GridSearchCV(lr_pipe, param_grid = lr_param_grid, cv=5)\n",
    "lr_grid.fit(X_train, y_train)"
   ]
  },
  {
   "cell_type": "code",
   "execution_count": 75,
   "id": "cca7fb80",
   "metadata": {},
   "outputs": [
    {
     "name": "stdout",
     "output_type": "stream",
     "text": [
      "Best parameters: {'model__C': 1, 'model__penalty': 'l2'}\n",
      "Best score: 0.8998640576478245\n"
     ]
    }
   ],
   "source": [
    "# Print the best parameters and score\n",
    "print(\"Best parameters:\", lr_grid.best_params_)\n",
    "print(\"Best score:\", lr_grid.best_score_)"
   ]
  },
  {
   "cell_type": "code",
   "execution_count": 76,
   "id": "197261da",
   "metadata": {
    "scrolled": true
   },
   "outputs": [
    {
     "data": {
      "text/html": [
       "<div>\n",
       "<style scoped>\n",
       "    .dataframe tbody tr th:only-of-type {\n",
       "        vertical-align: middle;\n",
       "    }\n",
       "\n",
       "    .dataframe tbody tr th {\n",
       "        vertical-align: top;\n",
       "    }\n",
       "\n",
       "    .dataframe thead th {\n",
       "        text-align: right;\n",
       "    }\n",
       "</style>\n",
       "<table border=\"1\" class=\"dataframe\">\n",
       "  <thead>\n",
       "    <tr style=\"text-align: right;\">\n",
       "      <th></th>\n",
       "      <th>feature</th>\n",
       "      <th>weight</th>\n",
       "      <th>abs_weight</th>\n",
       "    </tr>\n",
       "  </thead>\n",
       "  <tbody>\n",
       "    <tr>\n",
       "      <th>8</th>\n",
       "      <td>poutcome_success</td>\n",
       "      <td>1.737990</td>\n",
       "      <td>1.737990</td>\n",
       "    </tr>\n",
       "    <tr>\n",
       "      <th>13</th>\n",
       "      <td>duration</td>\n",
       "      <td>1.025001</td>\n",
       "      <td>1.025001</td>\n",
       "    </tr>\n",
       "    <tr>\n",
       "      <th>4</th>\n",
       "      <td>housing_yes</td>\n",
       "      <td>-1.019323</td>\n",
       "      <td>1.019323</td>\n",
       "    </tr>\n",
       "    <tr>\n",
       "      <th>9</th>\n",
       "      <td>poutcome_unknown</td>\n",
       "      <td>-1.003376</td>\n",
       "      <td>1.003376</td>\n",
       "    </tr>\n",
       "    <tr>\n",
       "      <th>5</th>\n",
       "      <td>loan_yes</td>\n",
       "      <td>-0.584818</td>\n",
       "      <td>0.584818</td>\n",
       "    </tr>\n",
       "    <tr>\n",
       "      <th>6</th>\n",
       "      <td>poutcome_failure</td>\n",
       "      <td>-0.511360</td>\n",
       "      <td>0.511360</td>\n",
       "    </tr>\n",
       "    <tr>\n",
       "      <th>3</th>\n",
       "      <td>default_yes</td>\n",
       "      <td>-0.411717</td>\n",
       "      <td>0.411717</td>\n",
       "    </tr>\n",
       "    <tr>\n",
       "      <th>14</th>\n",
       "      <td>campaign</td>\n",
       "      <td>-0.340072</td>\n",
       "      <td>0.340072</td>\n",
       "    </tr>\n",
       "    <tr>\n",
       "      <th>2</th>\n",
       "      <td>marital_single</td>\n",
       "      <td>0.226392</td>\n",
       "      <td>0.226392</td>\n",
       "    </tr>\n",
       "    <tr>\n",
       "      <th>7</th>\n",
       "      <td>poutcome_other</td>\n",
       "      <td>-0.222784</td>\n",
       "      <td>0.222784</td>\n",
       "    </tr>\n",
       "    <tr>\n",
       "      <th>1</th>\n",
       "      <td>marital_married</td>\n",
       "      <td>-0.196049</td>\n",
       "      <td>0.196049</td>\n",
       "    </tr>\n",
       "    <tr>\n",
       "      <th>11</th>\n",
       "      <td>education</td>\n",
       "      <td>0.132239</td>\n",
       "      <td>0.132239</td>\n",
       "    </tr>\n",
       "    <tr>\n",
       "      <th>12</th>\n",
       "      <td>age</td>\n",
       "      <td>0.075526</td>\n",
       "      <td>0.075526</td>\n",
       "    </tr>\n",
       "    <tr>\n",
       "      <th>15</th>\n",
       "      <td>previous</td>\n",
       "      <td>0.066023</td>\n",
       "      <td>0.066023</td>\n",
       "    </tr>\n",
       "    <tr>\n",
       "      <th>0</th>\n",
       "      <td>marital_divorced</td>\n",
       "      <td>-0.029874</td>\n",
       "      <td>0.029874</td>\n",
       "    </tr>\n",
       "    <tr>\n",
       "      <th>10</th>\n",
       "      <td>job</td>\n",
       "      <td>-0.024467</td>\n",
       "      <td>0.024467</td>\n",
       "    </tr>\n",
       "  </tbody>\n",
       "</table>\n",
       "</div>"
      ],
      "text/plain": [
       "             feature    weight  abs_weight\n",
       "8   poutcome_success  1.737990    1.737990\n",
       "13          duration  1.025001    1.025001\n",
       "4        housing_yes -1.019323    1.019323\n",
       "9   poutcome_unknown -1.003376    1.003376\n",
       "5           loan_yes -0.584818    0.584818\n",
       "6   poutcome_failure -0.511360    0.511360\n",
       "3        default_yes -0.411717    0.411717\n",
       "14          campaign -0.340072    0.340072\n",
       "2     marital_single  0.226392    0.226392\n",
       "7     poutcome_other -0.222784    0.222784\n",
       "1    marital_married -0.196049    0.196049\n",
       "11         education  0.132239    0.132239\n",
       "12               age  0.075526    0.075526\n",
       "15          previous  0.066023    0.066023\n",
       "0   marital_divorced -0.029874    0.029874\n",
       "10               job -0.024467    0.024467"
      ]
     },
     "execution_count": 76,
     "metadata": {},
     "output_type": "execute_result"
    }
   ],
   "source": [
    "# let us get the coefficients of the features used in the best estimator\n",
    "lr_feature_weights = pd.DataFrame({\n",
    "    'feature': tx_feature_names,\n",
    "    'weight': lr_grid.best_estimator_['model'].coef_[0]\n",
    "})\n",
    "lr_feature_weights['abs_weight'] = abs(lr_feature_weights['weight'])\n",
    "\n",
    "lr_feature_weights.sort_values(by=['abs_weight'], ascending=False)"
   ]
  },
  {
   "cell_type": "code",
   "execution_count": 77,
   "id": "9cd194f4",
   "metadata": {},
   "outputs": [
    {
     "data": {
      "text/plain": [
       "array(['no', 'no', 'no', ..., 'no', 'no', 'no'], dtype=object)"
      ]
     },
     "execution_count": 77,
     "metadata": {},
     "output_type": "execute_result"
    }
   ],
   "source": [
    "lr_predictions = lr_grid.predict(X_test)\n",
    "lr_predictions"
   ]
  },
  {
   "cell_type": "code",
   "execution_count": 78,
   "id": "394cfa39",
   "metadata": {},
   "outputs": [
    {
     "name": "stdout",
     "output_type": "stream",
     "text": [
      "Logistic Regression (precision, recall): (0.6467532467532467,0.31379962192816635)\n"
     ]
    }
   ],
   "source": [
    "pos_label = 'yes'\n",
    "lr_precision, lr_recall = precision_score(y_test, lr_predictions, pos_label=pos_label), recall_score(y_test, lr_predictions, pos_label=pos_label)\n",
    "print(f'Logistic Regression (precision, recall): ({lr_precision},{lr_recall})')"
   ]
  },
  {
   "cell_type": "code",
   "execution_count": 79,
   "id": "0dc04ab9",
   "metadata": {
    "scrolled": true
   },
   "outputs": [
    {
     "data": {
      "text/plain": [
       "Text(0.5, 1.0, 'Logistic Regression Model')"
      ]
     },
     "execution_count": 79,
     "metadata": {},
     "output_type": "execute_result"
    },
    {
     "data": {
      "image/png": "[encoded data removed]",
      "text/plain": [
       "<Figure size 640x480 with 2 Axes>"
      ]
     },
     "metadata": {},
     "output_type": "display_data"
    }
   ],
   "source": [
    "ConfusionMatrixDisplay.from_predictions(\n",
    "    y_true = y_test, \n",
    "    y_pred = lr_predictions, \n",
    "    labels = ['no','yes'],\n",
    "    display_labels=[\"Didn't Subscribe\",'Subscribed']\n",
    ")\n",
    "plt.title('Logistic Regression Model')"
   ]
  },
  {
   "cell_type": "code",
   "execution_count": null,
   "id": "2124b3f7",
   "metadata": {},
   "outputs": [],
   "source": []
  },
  {
   "cell_type": "markdown",
   "id": "7056759b",
   "metadata": {},
   "source": [
    "#### Decision Tree"
   ]
  },
  {
   "cell_type": "code",
   "execution_count": 80,
   "id": "3600d905",
   "metadata": {},
   "outputs": [],
   "source": [
    "from sklearn.tree import DecisionTreeClassifier"
   ]
  },
  {
   "cell_type": "code",
   "execution_count": 81,
   "id": "ef8457be",
   "metadata": {},
   "outputs": [],
   "source": [
    "dt_param_grid =  {\n",
    "    'model__criterion': ['gini', 'entropy'],\n",
    "    'model__max_depth': [2, 4, 6, 8, 10],\n",
    "    'model__min_samples_split': [2, 4, 6, 8, 10],\n",
    "    'model__min_samples_leaf': [1, 2, 3, 4, 5]\n",
    "}\n",
    "\n",
    "dt_pipe = Pipeline([\n",
    "    ('preprocessor', transformer),\n",
    "    ('model', DecisionTreeClassifier())\n",
    "])"
   ]
  },
  {
   "cell_type": "code",
   "execution_count": 82,
   "id": "8a77316b",
   "metadata": {},
   "outputs": [
    {
     "name": "stdout",
     "output_type": "stream",
     "text": [
      "CPU times: total: 2min 9s\n",
      "Wall time: 2min 11s\n"
     ]
    },
    {
     "data": {
      "text/plain": [
       "GridSearchCV(cv=5,\n",
       "             estimator=Pipeline(steps=[('preprocessor',\n",
       "                                        ColumnTransformer(remainder='passthrough',\n",
       "                                                          transformers=[('onehotencoder',\n",
       "                                                                         OneHotEncoder(drop='if_binary'),\n",
       "                                                                         ['marital',\n",
       "                                                                          'default',\n",
       "                                                                          'housing',\n",
       "                                                                          'loan',\n",
       "                                                                          'poutcome']),\n",
       "                                                                        ('ordinalencoder-1',\n",
       "                                                                         OrdinalEncoder(categories=[['entrepreneur',\n",
       "                                                                                                     'management',\n",
       "                                                                                                     'admin.',\n",
       "                                                                                                     'self-employed',\n",
       "                                                                                                     'retired',\n",
       "                                                                                                     'services',\n",
       "                                                                                                     'student',\n",
       "                                                                                                     't...\n",
       "                                                                         OrdinalEncoder(categories=[['primary',\n",
       "                                                                                                     'secondary',\n",
       "                                                                                                     'tertiary',\n",
       "                                                                                                     'unknown']]),\n",
       "                                                                         ['education']),\n",
       "                                                                        ('standardscaler',\n",
       "                                                                         StandardScaler(),\n",
       "                                                                         ['age',\n",
       "                                                                          'duration',\n",
       "                                                                          'campaign',\n",
       "                                                                          'previous'])])),\n",
       "                                       ('model', DecisionTreeClassifier())]),\n",
       "             param_grid={'model__criterion': ['gini', 'entropy'],\n",
       "                         'model__max_depth': [2, 4, 6, 8, 10],\n",
       "                         'model__min_samples_leaf': [1, 2, 3, 4, 5],\n",
       "                         'model__min_samples_split': [2, 4, 6, 8, 10]})"
      ]
     },
     "execution_count": 82,
     "metadata": {},
     "output_type": "execute_result"
    }
   ],
   "source": [
    "%%time\n",
    "\n",
    "dt_grid = GridSearchCV(dt_pipe, param_grid=dt_param_grid, cv=5)\n",
    "dt_grid.fit(X_train, y_train)"
   ]
  },
  {
   "cell_type": "code",
   "execution_count": 51,
   "id": "8ebe7041",
   "metadata": {},
   "outputs": [
    {
     "name": "stdout",
     "output_type": "stream",
     "text": [
      "Best parameters: {'model__criterion': 'entropy', 'model__max_depth': 6, 'model__min_samples_leaf': 5, 'model__min_samples_split': 4}\n",
      "Best score: 0.9008752059590786\n"
     ]
    }
   ],
   "source": [
    "# Print the best parameters and score\n",
    "print(\"Best parameters:\", dt_grid.best_params_)\n",
    "print(\"Best score:\", dt_grid.best_score_)"
   ]
  },
  {
   "cell_type": "code",
   "execution_count": 52,
   "id": "51c6aa63",
   "metadata": {},
   "outputs": [
    {
     "data": {
      "text/plain": [
       "array(['no', 'no', 'no', ..., 'no', 'no', 'no'], dtype=object)"
      ]
     },
     "execution_count": 52,
     "metadata": {},
     "output_type": "execute_result"
    }
   ],
   "source": [
    "dt_predictions = dt_grid.predict(X_test)\n",
    "dt_predictions"
   ]
  },
  {
   "cell_type": "code",
   "execution_count": 86,
   "id": "c239bd0b",
   "metadata": {},
   "outputs": [
    {
     "name": "stdout",
     "output_type": "stream",
     "text": [
      "Decision Tree (precision, recall): (0.6441102756892231,0.3238815374921235)\n"
     ]
    }
   ],
   "source": [
    "pos_label = 'yes'\n",
    "dt_precision, dt_recall = precision_score(y_test, dt_predictions, pos_label=pos_label), recall_score(y_test, dt_predictions, pos_label=pos_label)\n",
    "print(f'Decision Tree (precision, recall): ({dt_precision},{dt_recall})')"
   ]
  },
  {
   "cell_type": "code",
   "execution_count": 55,
   "id": "5f37a597",
   "metadata": {
    "scrolled": true
   },
   "outputs": [
    {
     "data": {
      "text/plain": [
       "Text(0.5, 1.0, 'Decision Tree Model')"
      ]
     },
     "execution_count": 55,
     "metadata": {},
     "output_type": "execute_result"
    },
    {
     "data": {
      "image/png": "[encoded data removed]",
      "text/plain": [
       "<Figure size 640x480 with 2 Axes>"
      ]
     },
     "metadata": {},
     "output_type": "display_data"
    }
   ],
   "source": [
    "ConfusionMatrixDisplay.from_predictions(\n",
    "    y_true = y_test, \n",
    "    y_pred = dt_predictions, \n",
    "    labels = ['no','yes'],\n",
    "    display_labels=[\"Didn't Subscribe\",'Subscribed']\n",
    ")\n",
    "plt.title('Decision Tree Model')"
   ]
  },
  {
   "cell_type": "code",
   "execution_count": null,
   "id": "f5aa338d",
   "metadata": {},
   "outputs": [],
   "source": []
  },
  {
   "cell_type": "markdown",
   "id": "f0177a4e",
   "metadata": {},
   "source": [
    "#### SVM"
   ]
  },
  {
   "cell_type": "code",
   "execution_count": 83,
   "id": "cc3e3940",
   "metadata": {},
   "outputs": [],
   "source": [
    "from sklearn.svm import SVC"
   ]
  },
  {
   "cell_type": "code",
   "execution_count": 84,
   "id": "4bb59111",
   "metadata": {},
   "outputs": [],
   "source": [
    "svm_param_grid =  {\n",
    "    'model__kernel': ['linear', 'poly', 'rbf', 'sigmoid']\n",
    "}\n",
    "\n",
    "svm_pipe = Pipeline([\n",
    "    ('preprocessor', transformer),\n",
    "    ('model', SVC())\n",
    "])"
   ]
  },
  {
   "cell_type": "code",
   "execution_count": 85,
   "id": "aee56d89",
   "metadata": {},
   "outputs": [
    {
     "name": "stdout",
     "output_type": "stream",
     "text": [
      "CPU times: total: 3min 7s\n",
      "Wall time: 3min 8s\n"
     ]
    },
    {
     "data": {
      "text/plain": [
       "GridSearchCV(cv=5,\n",
       "             estimator=Pipeline(steps=[('preprocessor',\n",
       "                                        ColumnTransformer(remainder='passthrough',\n",
       "                                                          transformers=[('onehotencoder',\n",
       "                                                                         OneHotEncoder(drop='if_binary'),\n",
       "                                                                         ['marital',\n",
       "                                                                          'default',\n",
       "                                                                          'housing',\n",
       "                                                                          'loan',\n",
       "                                                                          'poutcome']),\n",
       "                                                                        ('ordinalencoder-1',\n",
       "                                                                         OrdinalEncoder(categories=[['entrepreneur',\n",
       "                                                                                                     'management',\n",
       "                                                                                                     'admin.',\n",
       "                                                                                                     'self-employed',\n",
       "                                                                                                     'retired',\n",
       "                                                                                                     'services',\n",
       "                                                                                                     'student',\n",
       "                                                                                                     'technician',\n",
       "                                                                                                     'blue-collar',\n",
       "                                                                                                     'housemaid',\n",
       "                                                                                                     'unemployed',\n",
       "                                                                                                     'unknown']]),\n",
       "                                                                         ['job']),\n",
       "                                                                        ('ordinalencoder-2',\n",
       "                                                                         OrdinalEncoder(categories=[['primary',\n",
       "                                                                                                     'secondary',\n",
       "                                                                                                     'tertiary',\n",
       "                                                                                                     'unknown']]),\n",
       "                                                                         ['education']),\n",
       "                                                                        ('standardscaler',\n",
       "                                                                         StandardScaler(),\n",
       "                                                                         ['age',\n",
       "                                                                          'duration',\n",
       "                                                                          'campaign',\n",
       "                                                                          'previous'])])),\n",
       "                                       ('model', SVC())]),\n",
       "             param_grid={'model__kernel': ['linear', 'poly', 'rbf', 'sigmoid']})"
      ]
     },
     "execution_count": 85,
     "metadata": {},
     "output_type": "execute_result"
    }
   ],
   "source": [
    "%%time\n",
    "\n",
    "svc_grid = GridSearchCV(svm_pipe, param_grid=svm_param_grid, cv=5)\n",
    "svc_grid.fit(X_train, y_train)"
   ]
  },
  {
   "cell_type": "code",
   "execution_count": 111,
   "id": "00a64b82",
   "metadata": {},
   "outputs": [
    {
     "data": {
      "text/plain": [
       "{'mean_fit_time': array([6.82661276, 8.24590893, 8.54397831, 5.88618526]),\n",
       " 'std_fit_time': array([0.35039553, 0.70843896, 0.25792181, 0.2867617 ]),\n",
       " 'mean_score_time': array([0.76680622, 0.83829613, 2.93692727, 1.14385729]),\n",
       " 'std_score_time': array([0.01427128, 0.01386334, 0.06570531, 0.03163586]),\n",
       " 'param_model__kernel': masked_array(data=['linear', 'poly', 'rbf', 'sigmoid'],\n",
       "              mask=[False, False, False, False],\n",
       "        fill_value='?',\n",
       "             dtype=object),\n",
       " 'params': [{'model__kernel': 'linear'},\n",
       "  {'model__kernel': 'poly'},\n",
       "  {'model__kernel': 'rbf'},\n",
       "  {'model__kernel': 'sigmoid'}],\n",
       " 'split0_test_score': array([0.89052133, 0.89004739, 0.89257504, 0.8221169 ]),\n",
       " 'split1_test_score': array([0.89699842, 0.89273302, 0.89763033, 0.81026856]),\n",
       " 'split2_test_score': array([0.89224206, 0.89003002, 0.8944541 , 0.80707853]),\n",
       " 'split3_test_score': array([0.89003002, 0.89003002, 0.89271607, 0.81292463]),\n",
       " 'split4_test_score': array([0.89334808, 0.88987202, 0.89603413, 0.81039659]),\n",
       " 'mean_test_score': array([0.89262798, 0.89054249, 0.89468193, 0.81255704]),\n",
       " 'std_test_score': array([0.0024882 , 0.00109712, 0.00194304, 0.00512728]),\n",
       " 'rank_test_score': array([2, 3, 1, 4])}"
      ]
     },
     "execution_count": 111,
     "metadata": {},
     "output_type": "execute_result"
    }
   ],
   "source": [
    "svc_grid.cv_results_"
   ]
  },
  {
   "cell_type": "code",
   "execution_count": 87,
   "id": "c7353598",
   "metadata": {},
   "outputs": [
    {
     "name": "stdout",
     "output_type": "stream",
     "text": [
      "Best parameters: {'model__kernel': 'rbf'}\n",
      "Best score: 0.8946819337850768\n"
     ]
    }
   ],
   "source": [
    "# Print the best parameters and score\n",
    "print(\"Best parameters:\", svc_grid.best_params_)\n",
    "print(\"Best score:\", svc_grid.best_score_)"
   ]
  },
  {
   "cell_type": "code",
   "execution_count": 88,
   "id": "76e62498",
   "metadata": {},
   "outputs": [
    {
     "data": {
      "text/plain": [
       "array(['no', 'no', 'no', ..., 'no', 'no', 'no'], dtype=object)"
      ]
     },
     "execution_count": 88,
     "metadata": {},
     "output_type": "execute_result"
    }
   ],
   "source": [
    "svc_predictions = svc_grid.predict(X_test)\n",
    "svc_predictions"
   ]
  },
  {
   "cell_type": "code",
   "execution_count": 89,
   "id": "95746a85",
   "metadata": {},
   "outputs": [
    {
     "name": "stdout",
     "output_type": "stream",
     "text": [
      "Decision Tree (precision, recall): (0.65,0.24574669187145556)\n"
     ]
    }
   ],
   "source": [
    "pos_label = 'yes'\n",
    "svc_precision, svc_recall = precision_score(y_test, svc_predictions, pos_label=pos_label), recall_score(y_test, svc_predictions, pos_label=pos_label)\n",
    "print(f'Decision Tree (precision, recall): ({svc_precision},{svc_recall})')"
   ]
  },
  {
   "cell_type": "code",
   "execution_count": 90,
   "id": "769ceb21",
   "metadata": {
    "scrolled": true
   },
   "outputs": [
    {
     "data": {
      "text/plain": [
       "Text(0.5, 1.0, 'Support Vector Machine Model')"
      ]
     },
     "execution_count": 90,
     "metadata": {},
     "output_type": "execute_result"
    },
    {
     "data": {
      "image/png": "[encoded data removed]",
      "text/plain": [
       "<Figure size 640x480 with 2 Axes>"
      ]
     },
     "metadata": {},
     "output_type": "display_data"
    }
   ],
   "source": [
    "ConfusionMatrixDisplay.from_predictions(\n",
    "    y_true = y_test, \n",
    "    y_pred = svc_predictions, \n",
    "    labels = ['no','yes'],\n",
    "    display_labels=[\"Didn't Subscribe\",'Subscribed']\n",
    ")\n",
    "plt.title('Support Vector Machine Model')"
   ]
  },
  {
   "cell_type": "markdown",
   "id": "39dedccf",
   "metadata": {},
   "source": [
    "##### Note: as the best etimator uses the rbf (Radial Basis Function) kernel, we can't get the coefficients of the features. "
   ]
  },
  {
   "cell_type": "markdown",
   "id": "25f79dc9",
   "metadata": {},
   "source": [
    "#### Let us try using a linear kernel to see what feature weightage the model provides"
   ]
  },
  {
   "cell_type": "code",
   "execution_count": 98,
   "id": "de2581a0",
   "metadata": {},
   "outputs": [],
   "source": [
    "svm_linear_pipe = Pipeline([\n",
    "    ('preprocessor', transformer),\n",
    "    ('model', SVC(kernel='linear'))\n",
    "])"
   ]
  },
  {
   "cell_type": "code",
   "execution_count": 99,
   "id": "7c3f208f",
   "metadata": {},
   "outputs": [
    {
     "name": "stdout",
     "output_type": "stream",
     "text": [
      "CPU times: total: 10.2 s\n",
      "Wall time: 10.2 s\n"
     ]
    },
    {
     "data": {
      "text/plain": [
       "Pipeline(steps=[('preprocessor',\n",
       "                 ColumnTransformer(remainder='passthrough',\n",
       "                                   transformers=[('onehotencoder',\n",
       "                                                  OneHotEncoder(drop='if_binary'),\n",
       "                                                  ['marital', 'default',\n",
       "                                                   'housing', 'loan',\n",
       "                                                   'poutcome']),\n",
       "                                                 ('ordinalencoder-1',\n",
       "                                                  OrdinalEncoder(categories=[['entrepreneur',\n",
       "                                                                              'management',\n",
       "                                                                              'admin.',\n",
       "                                                                              'self-employed',\n",
       "                                                                              'retired',\n",
       "                                                                              'services',\n",
       "                                                                              'student',\n",
       "                                                                              'technician',\n",
       "                                                                              'blue-collar',\n",
       "                                                                              'housemaid',\n",
       "                                                                              'unemployed',\n",
       "                                                                              'unknown']]),\n",
       "                                                  ['job']),\n",
       "                                                 ('ordinalencoder-2',\n",
       "                                                  OrdinalEncoder(categories=[['primary',\n",
       "                                                                              'secondary',\n",
       "                                                                              'tertiary',\n",
       "                                                                              'unknown']]),\n",
       "                                                  ['education']),\n",
       "                                                 ('standardscaler',\n",
       "                                                  StandardScaler(),\n",
       "                                                  ['age', 'duration',\n",
       "                                                   'campaign', 'previous'])])),\n",
       "                ('model', SVC(kernel='linear'))])"
      ]
     },
     "execution_count": 99,
     "metadata": {},
     "output_type": "execute_result"
    }
   ],
   "source": [
    "%%time\n",
    "\n",
    "svm_linear_pipe.fit(X_train, y_train)"
   ]
  },
  {
   "cell_type": "code",
   "execution_count": 117,
   "id": "ec9b20bc",
   "metadata": {},
   "outputs": [
    {
     "data": {
      "text/plain": [
       "0.8926280532119948"
      ]
     },
     "execution_count": 117,
     "metadata": {},
     "output_type": "execute_result"
    }
   ],
   "source": [
    "svm_linear_pipe.score(X_train, y_train)"
   ]
  },
  {
   "cell_type": "code",
   "execution_count": 100,
   "id": "c1f8235b",
   "metadata": {},
   "outputs": [
    {
     "data": {
      "text/plain": [
       "array(['no', 'no', 'no', ..., 'no', 'no', 'no'], dtype=object)"
      ]
     },
     "execution_count": 100,
     "metadata": {},
     "output_type": "execute_result"
    }
   ],
   "source": [
    "svc_linear_predictions = svm_linear_pipe.predict(X_test)\n",
    "svc_linear_predictions"
   ]
  },
  {
   "cell_type": "code",
   "execution_count": 101,
   "id": "1a4f4c4b",
   "metadata": {},
   "outputs": [
    {
     "name": "stdout",
     "output_type": "stream",
     "text": [
      "Decision Tree (precision, recall): (0.6584269662921348,0.18462507876496534)\n"
     ]
    }
   ],
   "source": [
    "pos_label = 'yes'\n",
    "svc_linear_precision, svc_linear_recall = precision_score(y_test, svc_linear_predictions, pos_label=pos_label), recall_score(y_test, svc_linear_predictions, pos_label=pos_label)\n",
    "print(f'Decision Tree (precision, recall): ({svc_linear_precision},{svc_linear_recall})')"
   ]
  },
  {
   "cell_type": "code",
   "execution_count": 106,
   "id": "4f0b276c",
   "metadata": {
    "scrolled": true
   },
   "outputs": [
    {
     "data": {
      "text/plain": [
       "Text(0.5, 1.0, 'Support Vector Machine (Linear Kernel) Model')"
      ]
     },
     "execution_count": 106,
     "metadata": {},
     "output_type": "execute_result"
    },
    {
     "data": {
      "image/png": "[encoded data removed]",
      "text/plain": [
       "<Figure size 640x480 with 2 Axes>"
      ]
     },
     "metadata": {},
     "output_type": "display_data"
    }
   ],
   "source": [
    "ConfusionMatrixDisplay.from_predictions(\n",
    "    y_true = y_test, \n",
    "    y_pred = svc_linear_predictions, \n",
    "    labels = ['no','yes'],\n",
    "    display_labels=[\"Didn't Subscribe\",'Subscribed']\n",
    ")\n",
    "plt.title('Support Vector Machine (Linear Kernel) Model')"
   ]
  },
  {
   "cell_type": "code",
   "execution_count": 108,
   "id": "fbe9b60e",
   "metadata": {},
   "outputs": [
    {
     "data": {
      "text/plain": [
       "array([[ 1.28384001e-05, -5.26806930e-05,  3.98422932e-05,\n",
       "        -1.56397179e-04, -8.57551122e-05, -1.44061240e-04,\n",
       "        -4.99980766e-01, -4.99853228e-01,  1.49993581e+00,\n",
       "        -5.00101817e-01, -1.88359390e-05,  1.07046299e-05,\n",
       "        -1.62774459e-05,  1.89185576e-04, -1.28735746e-05,\n",
       "        -1.23837295e-05]])"
      ]
     },
     "execution_count": 108,
     "metadata": {},
     "output_type": "execute_result"
    }
   ],
   "source": [
    "svm_linear_pipe['model'].coef_"
   ]
  },
  {
   "cell_type": "code",
   "execution_count": 109,
   "id": "9758f047",
   "metadata": {
    "scrolled": true
   },
   "outputs": [
    {
     "data": {
      "text/html": [
       "<div>\n",
       "<style scoped>\n",
       "    .dataframe tbody tr th:only-of-type {\n",
       "        vertical-align: middle;\n",
       "    }\n",
       "\n",
       "    .dataframe tbody tr th {\n",
       "        vertical-align: top;\n",
       "    }\n",
       "\n",
       "    .dataframe thead th {\n",
       "        text-align: right;\n",
       "    }\n",
       "</style>\n",
       "<table border=\"1\" class=\"dataframe\">\n",
       "  <thead>\n",
       "    <tr style=\"text-align: right;\">\n",
       "      <th></th>\n",
       "      <th>feature</th>\n",
       "      <th>weight</th>\n",
       "      <th>abs_weight</th>\n",
       "    </tr>\n",
       "  </thead>\n",
       "  <tbody>\n",
       "    <tr>\n",
       "      <th>8</th>\n",
       "      <td>poutcome_success</td>\n",
       "      <td>1.499936</td>\n",
       "      <td>1.499936</td>\n",
       "    </tr>\n",
       "    <tr>\n",
       "      <th>9</th>\n",
       "      <td>poutcome_unknown</td>\n",
       "      <td>-0.500102</td>\n",
       "      <td>0.500102</td>\n",
       "    </tr>\n",
       "    <tr>\n",
       "      <th>6</th>\n",
       "      <td>poutcome_failure</td>\n",
       "      <td>-0.499981</td>\n",
       "      <td>0.499981</td>\n",
       "    </tr>\n",
       "    <tr>\n",
       "      <th>7</th>\n",
       "      <td>poutcome_other</td>\n",
       "      <td>-0.499853</td>\n",
       "      <td>0.499853</td>\n",
       "    </tr>\n",
       "    <tr>\n",
       "      <th>13</th>\n",
       "      <td>duration</td>\n",
       "      <td>0.000189</td>\n",
       "      <td>0.000189</td>\n",
       "    </tr>\n",
       "    <tr>\n",
       "      <th>3</th>\n",
       "      <td>default_yes</td>\n",
       "      <td>-0.000156</td>\n",
       "      <td>0.000156</td>\n",
       "    </tr>\n",
       "    <tr>\n",
       "      <th>5</th>\n",
       "      <td>loan_yes</td>\n",
       "      <td>-0.000144</td>\n",
       "      <td>0.000144</td>\n",
       "    </tr>\n",
       "    <tr>\n",
       "      <th>4</th>\n",
       "      <td>housing_yes</td>\n",
       "      <td>-0.000086</td>\n",
       "      <td>0.000086</td>\n",
       "    </tr>\n",
       "    <tr>\n",
       "      <th>1</th>\n",
       "      <td>marital_married</td>\n",
       "      <td>-0.000053</td>\n",
       "      <td>0.000053</td>\n",
       "    </tr>\n",
       "    <tr>\n",
       "      <th>2</th>\n",
       "      <td>marital_single</td>\n",
       "      <td>0.000040</td>\n",
       "      <td>0.000040</td>\n",
       "    </tr>\n",
       "    <tr>\n",
       "      <th>10</th>\n",
       "      <td>job</td>\n",
       "      <td>-0.000019</td>\n",
       "      <td>0.000019</td>\n",
       "    </tr>\n",
       "    <tr>\n",
       "      <th>12</th>\n",
       "      <td>age</td>\n",
       "      <td>-0.000016</td>\n",
       "      <td>0.000016</td>\n",
       "    </tr>\n",
       "    <tr>\n",
       "      <th>14</th>\n",
       "      <td>campaign</td>\n",
       "      <td>-0.000013</td>\n",
       "      <td>0.000013</td>\n",
       "    </tr>\n",
       "    <tr>\n",
       "      <th>0</th>\n",
       "      <td>marital_divorced</td>\n",
       "      <td>0.000013</td>\n",
       "      <td>0.000013</td>\n",
       "    </tr>\n",
       "    <tr>\n",
       "      <th>15</th>\n",
       "      <td>previous</td>\n",
       "      <td>-0.000012</td>\n",
       "      <td>0.000012</td>\n",
       "    </tr>\n",
       "    <tr>\n",
       "      <th>11</th>\n",
       "      <td>education</td>\n",
       "      <td>0.000011</td>\n",
       "      <td>0.000011</td>\n",
       "    </tr>\n",
       "  </tbody>\n",
       "</table>\n",
       "</div>"
      ],
      "text/plain": [
       "             feature    weight  abs_weight\n",
       "8   poutcome_success  1.499936    1.499936\n",
       "9   poutcome_unknown -0.500102    0.500102\n",
       "6   poutcome_failure -0.499981    0.499981\n",
       "7     poutcome_other -0.499853    0.499853\n",
       "13          duration  0.000189    0.000189\n",
       "3        default_yes -0.000156    0.000156\n",
       "5           loan_yes -0.000144    0.000144\n",
       "4        housing_yes -0.000086    0.000086\n",
       "1    marital_married -0.000053    0.000053\n",
       "2     marital_single  0.000040    0.000040\n",
       "10               job -0.000019    0.000019\n",
       "12               age -0.000016    0.000016\n",
       "14          campaign -0.000013    0.000013\n",
       "0   marital_divorced  0.000013    0.000013\n",
       "15          previous -0.000012    0.000012\n",
       "11         education  0.000011    0.000011"
      ]
     },
     "execution_count": 109,
     "metadata": {},
     "output_type": "execute_result"
    }
   ],
   "source": [
    "# let us get the coefficients of the features used in the best estimator\n",
    "svm_feature_weights = pd.DataFrame({\n",
    "    'feature': tx_feature_names,\n",
    "    'weight': svm_linear_pipe['model'].coef_[0]\n",
    "})\n",
    "svm_feature_weights['abs_weight'] = abs(svm_feature_weights['weight'])\n",
    "\n",
    "svm_feature_weights.sort_values(by=['abs_weight'], ascending=False)"
   ]
  },
  {
   "cell_type": "code",
   "execution_count": null,
   "id": "28984e75",
   "metadata": {},
   "outputs": [],
   "source": []
  },
  {
   "cell_type": "code",
   "execution_count": 118,
   "id": "50105421",
   "metadata": {},
   "outputs": [
    {
     "data": {
      "text/html": [
       "<div>\n",
       "<style scoped>\n",
       "    .dataframe tbody tr th:only-of-type {\n",
       "        vertical-align: middle;\n",
       "    }\n",
       "\n",
       "    .dataframe tbody tr th {\n",
       "        vertical-align: top;\n",
       "    }\n",
       "\n",
       "    .dataframe thead th {\n",
       "        text-align: right;\n",
       "    }\n",
       "</style>\n",
       "<table border=\"1\" class=\"dataframe\">\n",
       "  <thead>\n",
       "    <tr style=\"text-align: right;\">\n",
       "      <th></th>\n",
       "      <th>Average fit time (s)</th>\n",
       "      <th>best score</th>\n",
       "      <th>precision</th>\n",
       "      <th>recall</th>\n",
       "    </tr>\n",
       "    <tr>\n",
       "      <th>model</th>\n",
       "      <th></th>\n",
       "      <th></th>\n",
       "      <th></th>\n",
       "      <th></th>\n",
       "    </tr>\n",
       "  </thead>\n",
       "  <tbody>\n",
       "    <tr>\n",
       "      <th>K-Nearest Neighbors</th>\n",
       "      <td>211.0</td>\n",
       "      <td>0.894113</td>\n",
       "      <td>0.573913</td>\n",
       "      <td>0.332703</td>\n",
       "    </tr>\n",
       "    <tr>\n",
       "      <th>Logistic Regression</th>\n",
       "      <td>26.6</td>\n",
       "      <td>0.899864</td>\n",
       "      <td>0.646753</td>\n",
       "      <td>0.313800</td>\n",
       "    </tr>\n",
       "    <tr>\n",
       "      <th>Decision Tree</th>\n",
       "      <td>129.0</td>\n",
       "      <td>0.900875</td>\n",
       "      <td>0.644110</td>\n",
       "      <td>0.323882</td>\n",
       "    </tr>\n",
       "    <tr>\n",
       "      <th>SVM(rbf kernel)</th>\n",
       "      <td>187.0</td>\n",
       "      <td>0.894682</td>\n",
       "      <td>0.650000</td>\n",
       "      <td>0.245747</td>\n",
       "    </tr>\n",
       "    <tr>\n",
       "      <th>SVM(Linear Kernel)</th>\n",
       "      <td>10.2</td>\n",
       "      <td>0.892628</td>\n",
       "      <td>0.658427</td>\n",
       "      <td>0.184625</td>\n",
       "    </tr>\n",
       "  </tbody>\n",
       "</table>\n",
       "</div>"
      ],
      "text/plain": [
       "                     Average fit time (s)  best score  precision    recall\n",
       "model                                                                     \n",
       "K-Nearest Neighbors                 211.0    0.894113   0.573913  0.332703\n",
       "Logistic Regression                  26.6    0.899864   0.646753  0.313800\n",
       "Decision Tree                       129.0    0.900875   0.644110  0.323882\n",
       "SVM(rbf kernel)                     187.0    0.894682   0.650000  0.245747\n",
       "SVM(Linear Kernel)                   10.2    0.892628   0.658427  0.184625"
      ]
     },
     "execution_count": 118,
     "metadata": {},
     "output_type": "execute_result"
    }
   ],
   "source": [
    "res_dict = {\n",
    "    'model': ['K-Nearest Neighbors', 'Logistic Regression', 'Decision Tree', 'SVM(rbf kernel)', 'SVM(Linear Kernel)'],\n",
    "    'Average fit time (s)': [211, 26.6, 129, 187, 10.2],\n",
    "    'best score': [0.8941131385230653, 0.8998640576478245, 0.9008752059590786, 0.8946819337850768, 0.8926280532119948],\n",
    "    'precision': [0.5739130434782609, 0.6467532467532467, 0.6441102756892231, 0.65,0.6584269662921348],\n",
    "    'recall': [0.332703213610586, 0.31379962192816635, 0.3238815374921235, 0.24574669187145556,0.18462507876496534]\n",
    "}\n",
    "results_df = pd.DataFrame(res_dict).set_index('model')\n",
    "results_df"
   ]
  }
 ],
 "metadata": {
  "kernelspec": {
   "display_name": "Python 3 (ipykernel)",
   "language": "python",
   "name": "python3"
  },
  "language_info": {
   "codemirror_mode": {
    "name": "ipython",
    "version": 3
   },
   "file_extension": ".py",
   "mimetype": "text/x-python",
   "name": "python",
   "nbconvert_exporter": "python",
   "pygments_lexer": "ipython3",
   "version": "3.9.13"
  }
 },
 "nbformat": 4,
 "nbformat_minor": 5
}
