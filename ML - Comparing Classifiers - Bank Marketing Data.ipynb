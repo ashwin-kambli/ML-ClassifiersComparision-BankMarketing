{
 "cells": [
  {
   "cell_type": "code",
   "execution_count": 81,
   "id": "bef11899",
   "metadata": {},
   "outputs": [],
   "source": [
    "import pandas as pd\n",
    "import numpy as np\n",
    "import matplotlib.pyplot as plt\n",
    "\n",
    "from sklearn.model_selection import train_test_split\n",
    "from sklearn.metrics import confusion_matrix, precision_score, recall_score, accuracy_score, plot_confusion_matrix, ConfusionMatrixDisplay\n",
    "from sklearn.metrics import plot_confusion_matrix\n",
    "from sklearn.pipeline import Pipeline\n",
    "from sklearn.preprocessing import StandardScaler, OneHotEncoder\n",
    "from sklearn.metrics import confusion_matrix, precision_score, recall_score, accuracy_score, plot_confusion_matrix, ConfusionMatrixDisplay\n",
    "from sklearn.metrics import plot_confusion_matrix"
   ]
  },
  {
   "cell_type": "code",
   "execution_count": 2,
   "id": "2e218f24",
   "metadata": {
    "scrolled": true
   },
   "outputs": [
    {
     "data": {
      "text/html": [
       "<div>\n",
       "<style scoped>\n",
       "    .dataframe tbody tr th:only-of-type {\n",
       "        vertical-align: middle;\n",
       "    }\n",
       "\n",
       "    .dataframe tbody tr th {\n",
       "        vertical-align: top;\n",
       "    }\n",
       "\n",
       "    .dataframe thead th {\n",
       "        text-align: right;\n",
       "    }\n",
       "</style>\n",
       "<table border=\"1\" class=\"dataframe\">\n",
       "  <thead>\n",
       "    <tr style=\"text-align: right;\">\n",
       "      <th></th>\n",
       "      <th>age</th>\n",
       "      <th>job</th>\n",
       "      <th>marital</th>\n",
       "      <th>education</th>\n",
       "      <th>default</th>\n",
       "      <th>balance</th>\n",
       "      <th>housing</th>\n",
       "      <th>loan</th>\n",
       "      <th>contact</th>\n",
       "      <th>day</th>\n",
       "      <th>month</th>\n",
       "      <th>duration</th>\n",
       "      <th>campaign</th>\n",
       "      <th>pdays</th>\n",
       "      <th>previous</th>\n",
       "      <th>poutcome</th>\n",
       "      <th>y</th>\n",
       "    </tr>\n",
       "  </thead>\n",
       "  <tbody>\n",
       "    <tr>\n",
       "      <th>0</th>\n",
       "      <td>58</td>\n",
       "      <td>management</td>\n",
       "      <td>married</td>\n",
       "      <td>tertiary</td>\n",
       "      <td>no</td>\n",
       "      <td>2143</td>\n",
       "      <td>yes</td>\n",
       "      <td>no</td>\n",
       "      <td>unknown</td>\n",
       "      <td>5</td>\n",
       "      <td>may</td>\n",
       "      <td>261</td>\n",
       "      <td>1</td>\n",
       "      <td>-1</td>\n",
       "      <td>0</td>\n",
       "      <td>unknown</td>\n",
       "      <td>no</td>\n",
       "    </tr>\n",
       "    <tr>\n",
       "      <th>1</th>\n",
       "      <td>44</td>\n",
       "      <td>technician</td>\n",
       "      <td>single</td>\n",
       "      <td>secondary</td>\n",
       "      <td>no</td>\n",
       "      <td>29</td>\n",
       "      <td>yes</td>\n",
       "      <td>no</td>\n",
       "      <td>unknown</td>\n",
       "      <td>5</td>\n",
       "      <td>may</td>\n",
       "      <td>151</td>\n",
       "      <td>1</td>\n",
       "      <td>-1</td>\n",
       "      <td>0</td>\n",
       "      <td>unknown</td>\n",
       "      <td>no</td>\n",
       "    </tr>\n",
       "    <tr>\n",
       "      <th>2</th>\n",
       "      <td>33</td>\n",
       "      <td>entrepreneur</td>\n",
       "      <td>married</td>\n",
       "      <td>secondary</td>\n",
       "      <td>no</td>\n",
       "      <td>2</td>\n",
       "      <td>yes</td>\n",
       "      <td>yes</td>\n",
       "      <td>unknown</td>\n",
       "      <td>5</td>\n",
       "      <td>may</td>\n",
       "      <td>76</td>\n",
       "      <td>1</td>\n",
       "      <td>-1</td>\n",
       "      <td>0</td>\n",
       "      <td>unknown</td>\n",
       "      <td>no</td>\n",
       "    </tr>\n",
       "    <tr>\n",
       "      <th>3</th>\n",
       "      <td>47</td>\n",
       "      <td>blue-collar</td>\n",
       "      <td>married</td>\n",
       "      <td>unknown</td>\n",
       "      <td>no</td>\n",
       "      <td>1506</td>\n",
       "      <td>yes</td>\n",
       "      <td>no</td>\n",
       "      <td>unknown</td>\n",
       "      <td>5</td>\n",
       "      <td>may</td>\n",
       "      <td>92</td>\n",
       "      <td>1</td>\n",
       "      <td>-1</td>\n",
       "      <td>0</td>\n",
       "      <td>unknown</td>\n",
       "      <td>no</td>\n",
       "    </tr>\n",
       "    <tr>\n",
       "      <th>4</th>\n",
       "      <td>33</td>\n",
       "      <td>unknown</td>\n",
       "      <td>single</td>\n",
       "      <td>unknown</td>\n",
       "      <td>no</td>\n",
       "      <td>1</td>\n",
       "      <td>no</td>\n",
       "      <td>no</td>\n",
       "      <td>unknown</td>\n",
       "      <td>5</td>\n",
       "      <td>may</td>\n",
       "      <td>198</td>\n",
       "      <td>1</td>\n",
       "      <td>-1</td>\n",
       "      <td>0</td>\n",
       "      <td>unknown</td>\n",
       "      <td>no</td>\n",
       "    </tr>\n",
       "  </tbody>\n",
       "</table>\n",
       "</div>"
      ],
      "text/plain": [
       "   age           job  marital  education default  balance housing loan  \\\n",
       "0   58    management  married   tertiary      no     2143     yes   no   \n",
       "1   44    technician   single  secondary      no       29     yes   no   \n",
       "2   33  entrepreneur  married  secondary      no        2     yes  yes   \n",
       "3   47   blue-collar  married    unknown      no     1506     yes   no   \n",
       "4   33       unknown   single    unknown      no        1      no   no   \n",
       "\n",
       "   contact  day month  duration  campaign  pdays  previous poutcome   y  \n",
       "0  unknown    5   may       261         1     -1         0  unknown  no  \n",
       "1  unknown    5   may       151         1     -1         0  unknown  no  \n",
       "2  unknown    5   may        76         1     -1         0  unknown  no  \n",
       "3  unknown    5   may        92         1     -1         0  unknown  no  \n",
       "4  unknown    5   may       198         1     -1         0  unknown  no  "
      ]
     },
     "execution_count": 2,
     "metadata": {},
     "output_type": "execute_result"
    }
   ],
   "source": [
    "bank = pd.read_csv('data/bank/bank-full.csv',sep=';', quotechar='\"').dropna()\n",
    "bank.head()"
   ]
  },
  {
   "cell_type": "code",
   "execution_count": 3,
   "id": "76103f7e",
   "metadata": {
    "scrolled": true
   },
   "outputs": [
    {
     "name": "stdout",
     "output_type": "stream",
     "text": [
      "<class 'pandas.core.frame.DataFrame'>\n",
      "RangeIndex: 45211 entries, 0 to 45210\n",
      "Data columns (total 17 columns):\n",
      " #   Column     Non-Null Count  Dtype \n",
      "---  ------     --------------  ----- \n",
      " 0   age        45211 non-null  int64 \n",
      " 1   job        45211 non-null  object\n",
      " 2   marital    45211 non-null  object\n",
      " 3   education  45211 non-null  object\n",
      " 4   default    45211 non-null  object\n",
      " 5   balance    45211 non-null  int64 \n",
      " 6   housing    45211 non-null  object\n",
      " 7   loan       45211 non-null  object\n",
      " 8   contact    45211 non-null  object\n",
      " 9   day        45211 non-null  int64 \n",
      " 10  month      45211 non-null  object\n",
      " 11  duration   45211 non-null  int64 \n",
      " 12  campaign   45211 non-null  int64 \n",
      " 13  pdays      45211 non-null  int64 \n",
      " 14  previous   45211 non-null  int64 \n",
      " 15  poutcome   45211 non-null  object\n",
      " 16  y          45211 non-null  object\n",
      "dtypes: int64(7), object(10)\n",
      "memory usage: 5.9+ MB\n"
     ]
    }
   ],
   "source": [
    "bank.info()"
   ]
  },
  {
   "cell_type": "code",
   "execution_count": 17,
   "id": "d755fd87",
   "metadata": {},
   "outputs": [
    {
     "data": {
      "text/plain": [
       "education\n",
       "primary       6851\n",
       "secondary    23202\n",
       "tertiary     13301\n",
       "unknown       1857\n",
       "Name: education, dtype: int64"
      ]
     },
     "execution_count": 17,
     "metadata": {},
     "output_type": "execute_result"
    }
   ],
   "source": [
    "feature = 'education'\n",
    "bank.groupby([feature])[feature].count()"
   ]
  },
  {
   "cell_type": "code",
   "execution_count": 10,
   "id": "828ebebd",
   "metadata": {},
   "outputs": [
    {
     "data": {
      "text/plain": [
       "education\n",
       "primary       6851\n",
       "secondary    23202\n",
       "tertiary     13301\n",
       "unknown       1857\n",
       "Name: education, dtype: int64"
      ]
     },
     "execution_count": 10,
     "metadata": {},
     "output_type": "execute_result"
    }
   ],
   "source": [
    "bank.groupby(['education'])['education'].count()"
   ]
  },
  {
   "cell_type": "code",
   "execution_count": 5,
   "id": "bd6660e2",
   "metadata": {
    "scrolled": true
   },
   "outputs": [
    {
     "data": {
      "text/plain": [
       "job\n",
       "admin.           5171\n",
       "blue-collar      9732\n",
       "entrepreneur     1487\n",
       "housemaid        1240\n",
       "management       9458\n",
       "retired          2264\n",
       "self-employed    1579\n",
       "services         4154\n",
       "student           938\n",
       "technician       7597\n",
       "unemployed       1303\n",
       "unknown           288\n",
       "Name: job, dtype: int64"
      ]
     },
     "execution_count": 5,
     "metadata": {},
     "output_type": "execute_result"
    }
   ],
   "source": [
    "bank.groupby(['job'])['job'].count()"
   ]
  },
  {
   "cell_type": "code",
   "execution_count": 6,
   "id": "e97b9fa0",
   "metadata": {
    "scrolled": true
   },
   "outputs": [
    {
     "data": {
      "text/plain": [
       "y\n",
       "no     39922\n",
       "yes     5289\n",
       "Name: y, dtype: int64"
      ]
     },
     "execution_count": 6,
     "metadata": {},
     "output_type": "execute_result"
    }
   ],
   "source": [
    "bank.groupby(['y'])['y'].count()"
   ]
  },
  {
   "cell_type": "code",
   "execution_count": 5,
   "id": "8c8c5817",
   "metadata": {},
   "outputs": [
    {
     "data": {
      "text/plain": [
       "education\n",
       "basic.4y                429\n",
       "basic.6y                228\n",
       "basic.9y                574\n",
       "high.school             921\n",
       "illiterate                1\n",
       "professional.course     535\n",
       "university.degree      1264\n",
       "unknown                 167\n",
       "Name: education, dtype: int64"
      ]
     },
     "execution_count": 5,
     "metadata": {},
     "output_type": "execute_result"
    }
   ],
   "source": [
    "bank_additional.groupby(['education'])['education'].count()"
   ]
  },
  {
   "cell_type": "code",
   "execution_count": 6,
   "id": "768d24e4",
   "metadata": {
    "scrolled": true
   },
   "outputs": [
    {
     "data": {
      "text/plain": [
       "y\n",
       "no     3668\n",
       "yes     451\n",
       "Name: y, dtype: int64"
      ]
     },
     "execution_count": 6,
     "metadata": {},
     "output_type": "execute_result"
    }
   ],
   "source": [
    "bank_additional.groupby(['y'])['y'].count()"
   ]
  },
  {
   "cell_type": "markdown",
   "id": "5cb19595",
   "metadata": {},
   "source": [
    "### Data Preparation"
   ]
  },
  {
   "cell_type": "code",
   "execution_count": 20,
   "id": "2c078d61",
   "metadata": {},
   "outputs": [],
   "source": [
    "from sklearn.preprocessing import PolynomialFeatures, OneHotEncoder, OrdinalEncoder, LabelEncoder, StandardScaler"
   ]
  },
  {
   "cell_type": "code",
   "execution_count": 21,
   "id": "0ec71d8d",
   "metadata": {},
   "outputs": [],
   "source": [
    "from sklearn.model_selection import train_test_split"
   ]
  },
  {
   "cell_type": "code",
   "execution_count": 22,
   "id": "7678b929",
   "metadata": {},
   "outputs": [],
   "source": [
    "from sklearn.compose import make_column_transformer, make_column_selector\n",
    "from sklearn.pipeline import Pipeline"
   ]
  },
  {
   "cell_type": "code",
   "execution_count": 16,
   "id": "36d52e8c",
   "metadata": {},
   "outputs": [
    {
     "data": {
      "text/html": [
       "<div>\n",
       "<style scoped>\n",
       "    .dataframe tbody tr th:only-of-type {\n",
       "        vertical-align: middle;\n",
       "    }\n",
       "\n",
       "    .dataframe tbody tr th {\n",
       "        vertical-align: top;\n",
       "    }\n",
       "\n",
       "    .dataframe thead th {\n",
       "        text-align: right;\n",
       "    }\n",
       "</style>\n",
       "<table border=\"1\" class=\"dataframe\">\n",
       "  <thead>\n",
       "    <tr style=\"text-align: right;\">\n",
       "      <th></th>\n",
       "      <th>age</th>\n",
       "      <th>job</th>\n",
       "      <th>marital</th>\n",
       "      <th>education</th>\n",
       "      <th>default</th>\n",
       "      <th>balance</th>\n",
       "      <th>housing</th>\n",
       "      <th>loan</th>\n",
       "      <th>contact</th>\n",
       "      <th>day</th>\n",
       "      <th>month</th>\n",
       "      <th>duration</th>\n",
       "      <th>campaign</th>\n",
       "      <th>pdays</th>\n",
       "      <th>previous</th>\n",
       "      <th>poutcome</th>\n",
       "      <th>y</th>\n",
       "    </tr>\n",
       "  </thead>\n",
       "  <tbody>\n",
       "    <tr>\n",
       "      <th>0</th>\n",
       "      <td>58</td>\n",
       "      <td>management</td>\n",
       "      <td>married</td>\n",
       "      <td>tertiary</td>\n",
       "      <td>no</td>\n",
       "      <td>2143</td>\n",
       "      <td>yes</td>\n",
       "      <td>no</td>\n",
       "      <td>unknown</td>\n",
       "      <td>5</td>\n",
       "      <td>may</td>\n",
       "      <td>261</td>\n",
       "      <td>1</td>\n",
       "      <td>-1</td>\n",
       "      <td>0</td>\n",
       "      <td>unknown</td>\n",
       "      <td>no</td>\n",
       "    </tr>\n",
       "    <tr>\n",
       "      <th>1</th>\n",
       "      <td>44</td>\n",
       "      <td>technician</td>\n",
       "      <td>single</td>\n",
       "      <td>secondary</td>\n",
       "      <td>no</td>\n",
       "      <td>29</td>\n",
       "      <td>yes</td>\n",
       "      <td>no</td>\n",
       "      <td>unknown</td>\n",
       "      <td>5</td>\n",
       "      <td>may</td>\n",
       "      <td>151</td>\n",
       "      <td>1</td>\n",
       "      <td>-1</td>\n",
       "      <td>0</td>\n",
       "      <td>unknown</td>\n",
       "      <td>no</td>\n",
       "    </tr>\n",
       "    <tr>\n",
       "      <th>2</th>\n",
       "      <td>33</td>\n",
       "      <td>entrepreneur</td>\n",
       "      <td>married</td>\n",
       "      <td>secondary</td>\n",
       "      <td>no</td>\n",
       "      <td>2</td>\n",
       "      <td>yes</td>\n",
       "      <td>yes</td>\n",
       "      <td>unknown</td>\n",
       "      <td>5</td>\n",
       "      <td>may</td>\n",
       "      <td>76</td>\n",
       "      <td>1</td>\n",
       "      <td>-1</td>\n",
       "      <td>0</td>\n",
       "      <td>unknown</td>\n",
       "      <td>no</td>\n",
       "    </tr>\n",
       "    <tr>\n",
       "      <th>3</th>\n",
       "      <td>47</td>\n",
       "      <td>blue-collar</td>\n",
       "      <td>married</td>\n",
       "      <td>unknown</td>\n",
       "      <td>no</td>\n",
       "      <td>1506</td>\n",
       "      <td>yes</td>\n",
       "      <td>no</td>\n",
       "      <td>unknown</td>\n",
       "      <td>5</td>\n",
       "      <td>may</td>\n",
       "      <td>92</td>\n",
       "      <td>1</td>\n",
       "      <td>-1</td>\n",
       "      <td>0</td>\n",
       "      <td>unknown</td>\n",
       "      <td>no</td>\n",
       "    </tr>\n",
       "    <tr>\n",
       "      <th>4</th>\n",
       "      <td>33</td>\n",
       "      <td>unknown</td>\n",
       "      <td>single</td>\n",
       "      <td>unknown</td>\n",
       "      <td>no</td>\n",
       "      <td>1</td>\n",
       "      <td>no</td>\n",
       "      <td>no</td>\n",
       "      <td>unknown</td>\n",
       "      <td>5</td>\n",
       "      <td>may</td>\n",
       "      <td>198</td>\n",
       "      <td>1</td>\n",
       "      <td>-1</td>\n",
       "      <td>0</td>\n",
       "      <td>unknown</td>\n",
       "      <td>no</td>\n",
       "    </tr>\n",
       "  </tbody>\n",
       "</table>\n",
       "</div>"
      ],
      "text/plain": [
       "   age           job  marital  education default  balance housing loan  \\\n",
       "0   58    management  married   tertiary      no     2143     yes   no   \n",
       "1   44    technician   single  secondary      no       29     yes   no   \n",
       "2   33  entrepreneur  married  secondary      no        2     yes  yes   \n",
       "3   47   blue-collar  married    unknown      no     1506     yes   no   \n",
       "4   33       unknown   single    unknown      no        1      no   no   \n",
       "\n",
       "   contact  day month  duration  campaign  pdays  previous poutcome   y  \n",
       "0  unknown    5   may       261         1     -1         0  unknown  no  \n",
       "1  unknown    5   may       151         1     -1         0  unknown  no  \n",
       "2  unknown    5   may        76         1     -1         0  unknown  no  \n",
       "3  unknown    5   may        92         1     -1         0  unknown  no  \n",
       "4  unknown    5   may       198         1     -1         0  unknown  no  "
      ]
     },
     "execution_count": 16,
     "metadata": {},
     "output_type": "execute_result"
    }
   ],
   "source": [
    "bank.head()"
   ]
  },
  {
   "cell_type": "code",
   "execution_count": null,
   "id": "8b3eaa4e",
   "metadata": {},
   "outputs": [],
   "source": [
    "### Data Tranformations needed: \n",
    "# 1. Job -> OrdinalEncoder in this order: ['entrepreneur', 'management', 'admin.', 'self-employed', 'retired', 'services', 'student', 'technician', 'blue-collar', 'housemaid', 'unemployed', 'unknown']\n",
    "# 2. marital -> OnHotEncoder\n",
    "# 3. education -> OrdinalEncoder in this order: ['primary', 'secondary', 'tertiary', 'unknown']\n",
    "# 4. default -> OneHotEncoder\n",
    "# 5. housing -> OneHotEncoder\n",
    "# 6. Loan -> OneHotEncoder\n",
    "# 7. contact, day, month, pdays -> Dropping these features as they are not important\n",
    "# 8. poutcome -> onehotencoder "
   ]
  },
  {
   "cell_type": "code",
   "execution_count": 70,
   "id": "842dfd09",
   "metadata": {},
   "outputs": [],
   "source": [
    "### Based on the above data analysis, I have settled on the following features to use in my model: \n",
    "shortlisted_features = ['age', 'job', 'marital', 'education', 'default', 'housing', 'loan', 'duration','campaign', 'previous', 'poutcome']\n",
    "X = bank[shortlisted_features]\n",
    "y = bank['y']"
   ]
  },
  {
   "cell_type": "code",
   "execution_count": 26,
   "id": "fb6d1ff3",
   "metadata": {},
   "outputs": [],
   "source": [
    "X_train, X_test, y_train, y_test = train_test_split(X,y, test_size=0.3, stratify = y, random_state=22)"
   ]
  },
  {
   "cell_type": "code",
   "execution_count": 52,
   "id": "c1c1fd1f",
   "metadata": {},
   "outputs": [],
   "source": [
    "### Let us prepare our transformer: \n",
    "\n",
    "transformer = make_column_transformer(\n",
    "    (OneHotEncoder(drop = 'if_binary'), ['marital','default', 'housing', 'loan', 'poutcome']),\n",
    "    (OrdinalEncoder(categories = [['entrepreneur', 'management', 'admin.', 'self-employed', 'retired', 'services', 'student', 'technician', 'blue-collar', 'housemaid', 'unemployed', 'unknown']]), ['job']),\n",
    "    (OrdinalEncoder(categories = [['primary', 'secondary', 'tertiary', 'unknown']]), ['education']),\n",
    "    remainder='passthrough')\n",
    "# transformer.fit_transform(X_train)[:5]\n",
    "# X_train_tx = transformer.fit_transform(X_train)\n",
    "# X_test_tx = transformer.fit_transform(X_test)"
   ]
  },
  {
   "cell_type": "code",
   "execution_count": 65,
   "id": "8f980d0b",
   "metadata": {},
   "outputs": [],
   "source": [
    "### Function to extract column names since ORdinalEncoder does not provide the get_feature_names_out function\n",
    "### Source: https://johaupt.github.io/blog/columnTransformer_feature_names.html\n",
    "def get_feature_names(column_transformer):\n",
    "    \"\"\"Get feature names from all transformers.\n",
    "    Returns\n",
    "    -------\n",
    "    feature_names : list of strings\n",
    "        Names of the features produced by transform.\n",
    "    \"\"\"\n",
    "    # Remove the internal helper function\n",
    "    #check_is_fitted(column_transformer)\n",
    "    \n",
    "    # Turn loopkup into function for better handling with pipeline later\n",
    "    def get_names(trans):\n",
    "        # >> Original get_feature_names() method\n",
    "        if trans == 'drop' or (\n",
    "                hasattr(column, '__len__') and not len(column)):\n",
    "            return []\n",
    "        if trans == 'passthrough':\n",
    "            if hasattr(column_transformer, '_df_columns'):\n",
    "                if ((not isinstance(column, slice))\n",
    "                        and all(isinstance(col, str) for col in column)):\n",
    "                    return column\n",
    "                else:\n",
    "                    return column_transformer._df_columns[column]\n",
    "            else:\n",
    "                indices = np.arange(column_transformer._n_features)\n",
    "                return ['x%d' % i for i in indices[column]]\n",
    "        if not hasattr(trans, 'get_feature_names'):\n",
    "        # >>> Change: Return input column names if no method avaiable\n",
    "            # Turn error into a warning\n",
    "            warnings.warn(\"Transformer %s (type %s) does not \"\n",
    "                                 \"provide get_feature_names. \"\n",
    "                                 \"Will return input column names if available\"\n",
    "                                 % (str(name), type(trans).__name__))\n",
    "            # For transformers without a get_features_names method, use the input\n",
    "            # names to the column transformer\n",
    "            if column is None:\n",
    "                return []\n",
    "            else:\n",
    "                return [name + \"__\" + f for f in column]\n",
    "\n",
    "        return [name + \"__\" + f for f in trans.get_feature_names()]\n",
    "    \n",
    "    ### Start of processing\n",
    "    feature_names = []\n",
    "    \n",
    "    # Allow transformers to be pipelines. Pipeline steps are named differently, so preprocessing is needed\n",
    "    if type(column_transformer) == Pipeline:\n",
    "        l_transformers = [(name, trans, None, None) for step, name, trans in column_transformer._iter()]\n",
    "    else:\n",
    "        # For column transformers, follow the original method\n",
    "        l_transformers = list(column_transformer._iter(fitted=True))\n",
    "    \n",
    "    \n",
    "    for name, trans, column, _ in l_transformers: \n",
    "        if type(trans) == Pipeline:\n",
    "            # Recursive call on pipeline\n",
    "            _names = get_feature_names(trans)\n",
    "            # if pipeline has no transformer that returns names\n",
    "            if len(_names)==0:\n",
    "                _names = [name + \"__\" + f for f in column]\n",
    "            feature_names.extend(_names)\n",
    "        else:\n",
    "            feature_names.extend(get_names(trans))\n",
    "    \n",
    "    return feature_names"
   ]
  },
  {
   "cell_type": "code",
   "execution_count": 72,
   "id": "ac9999ef",
   "metadata": {},
   "outputs": [
    {
     "data": {
      "text/plain": [
       "['marital_divorced',\n",
       " 'marital_married',\n",
       " 'marital_single',\n",
       " 'default_yes',\n",
       " 'housing_yes',\n",
       " 'loan_yes',\n",
       " 'poutcome_failure',\n",
       " 'poutcome_other',\n",
       " 'poutcome_success',\n",
       " 'poutcome_unknown',\n",
       " 'job',\n",
       " 'education',\n",
       " 'age',\n",
       " 'duration',\n",
       " 'campaign',\n",
       " 'previous']"
      ]
     },
     "execution_count": 72,
     "metadata": {},
     "output_type": "execute_result"
    }
   ],
   "source": [
    "#Get the transformed feature names out\n",
    "tx_feature_names = get_feature_names(transformer)\n",
    "mapping = { \n",
    "    'onehotencoder__x0':'marital',\n",
    "    'onehotencoder__x1':'default',   \n",
    "    'onehotencoder__x2':'housing',\n",
    "    'onehotencoder__x3': 'loan', \n",
    "    'onehotencoder__x4':'poutcome', \n",
    "    'ordinalencoder-1__':'', \n",
    "    'ordinalencoder-2__':'',\n",
    "    'x0': shortlisted_features[0],\n",
    "    'x7': shortlisted_features[7],\n",
    "    'x8': shortlisted_features[8],\n",
    "    'x9': shortlisted_features[9]\n",
    "}\n",
    "\n",
    "for i in range(0,len(tx_feature_names)): \n",
    "    for k, v in mapping.items():\n",
    "        tx_feature_names[i] = tx_feature_names[i].replace(k, v)\n",
    "        \n",
    "tx_feature_names"
   ]
  },
  {
   "cell_type": "markdown",
   "id": "84b7e0b1",
   "metadata": {},
   "source": [
    "### Let's test the setup with one classifier: "
   ]
  },
  {
   "cell_type": "markdown",
   "id": "2d1fb23e",
   "metadata": {},
   "source": [
    "#### K-Nearest Neighbors"
   ]
  },
  {
   "cell_type": "code",
   "execution_count": 54,
   "id": "d7b4336a",
   "metadata": {},
   "outputs": [],
   "source": [
    "from sklearn.neighbors import KNeighborsClassifier\n",
    "from sklearn.model_selection import GridSearchCV\n",
    "import warnings\n",
    "warnings.filterwarnings('ignore')"
   ]
  },
  {
   "cell_type": "code",
   "execution_count": 55,
   "id": "25857c79",
   "metadata": {},
   "outputs": [],
   "source": [
    "knn_param_grid = {\n",
    "    'model__n_neighbors': [3, 5, 7],\n",
    "    'model__weights': ['uniform', 'distance']\n",
    "}\n",
    "knn_pipe = Pipeline([\n",
    "    ('transformer', transformer),\n",
    "    ('scaler', StandardScaler()),\n",
    "    ('model', KNeighborsClassifier())\n",
    "])"
   ]
  },
  {
   "cell_type": "code",
   "execution_count": 57,
   "id": "70a30d00",
   "metadata": {},
   "outputs": [
    {
     "name": "stdout",
     "output_type": "stream",
     "text": [
      "CPU times: total: 3min 13s\n",
      "Wall time: 1min 13s\n"
     ]
    },
    {
     "data": {
      "text/plain": [
       "GridSearchCV(cv=5,\n",
       "             estimator=Pipeline(steps=[('transformer',\n",
       "                                        ColumnTransformer(remainder='passthrough',\n",
       "                                                          transformers=[('onehotencoder',\n",
       "                                                                         OneHotEncoder(drop='if_binary'),\n",
       "                                                                         ['marital',\n",
       "                                                                          'default',\n",
       "                                                                          'housing',\n",
       "                                                                          'loan',\n",
       "                                                                          'poutcome']),\n",
       "                                                                        ('ordinalencoder-1',\n",
       "                                                                         OrdinalEncoder(categories=[['entrepreneur',\n",
       "                                                                                                     'management',\n",
       "                                                                                                     'admin.',\n",
       "                                                                                                     'self-employed',\n",
       "                                                                                                     'retired',\n",
       "                                                                                                     'services',\n",
       "                                                                                                     'student',\n",
       "                                                                                                     'technician',\n",
       "                                                                                                     'blue-collar',\n",
       "                                                                                                     'housemaid',\n",
       "                                                                                                     'unemployed',\n",
       "                                                                                                     'unknown']]),\n",
       "                                                                         ['job']),\n",
       "                                                                        ('ordinalencoder-2',\n",
       "                                                                         OrdinalEncoder(categories=[['primary',\n",
       "                                                                                                     'secondary',\n",
       "                                                                                                     'tertiary',\n",
       "                                                                                                     'unknown']]),\n",
       "                                                                         ['education'])])),\n",
       "                                       ('scaler', StandardScaler()),\n",
       "                                       ('model', KNeighborsClassifier())]),\n",
       "             param_grid={'model__n_neighbors': [3, 5, 7],\n",
       "                         'model__weights': ['uniform', 'distance']})"
      ]
     },
     "execution_count": 57,
     "metadata": {},
     "output_type": "execute_result"
    }
   ],
   "source": [
    "%%time\n",
    "\n",
    "knn_grid = GridSearchCV(knn_pipe, param_grid=knn_param_grid, cv=5)\n",
    "knn_grid.fit(X_train, y_train)"
   ]
  },
  {
   "cell_type": "code",
   "execution_count": 35,
   "id": "d9c63433",
   "metadata": {},
   "outputs": [
    {
     "name": "stdout",
     "output_type": "stream",
     "text": [
      "Best parameters: {'n_neighbors': 7, 'weights': 'uniform'}\n",
      "Best score: 0.8831801005277494\n"
     ]
    }
   ],
   "source": [
    "# Print the best parameters and score\n",
    "print(\"Best parameters:\", knn_grid.best_params_)\n",
    "print(\"Best score:\", knn_grid.best_score_)"
   ]
  },
  {
   "cell_type": "code",
   "execution_count": 84,
   "id": "07532c53",
   "metadata": {},
   "outputs": [
    {
     "data": {
      "text/plain": [
       "array(['no', 'no', 'no', ..., 'no', 'no', 'no'], dtype=object)"
      ]
     },
     "execution_count": 84,
     "metadata": {},
     "output_type": "execute_result"
    }
   ],
   "source": [
    "knn_predictions = knn_grid.predict(X_test)\n",
    "knn_predictions"
   ]
  },
  {
   "cell_type": "code",
   "execution_count": 85,
   "id": "1e2349e2",
   "metadata": {},
   "outputs": [
    {
     "name": "stdout",
     "output_type": "stream",
     "text": [
      "K Nearest Neighbors (precision, recall): (0.5528541226215645,0.3295526149968494)\n"
     ]
    }
   ],
   "source": [
    "pos_label = 'yes'\n",
    "knn_precision, knn_recall = precision_score(y_test, knn_predictions, pos_label=pos_label), recall_score(y_test, knn_predictions, pos_label=pos_label)\n",
    "print(f'K Nearest Neighbors (precision, recall): ({knn_precision},{knn_recall})')"
   ]
  },
  {
   "cell_type": "code",
   "execution_count": 103,
   "id": "35da61af",
   "metadata": {
    "scrolled": true
   },
   "outputs": [
    {
     "data": {
      "text/plain": [
       "Text(0.5, 1.0, 'K Nearest Neighbors Model')"
      ]
     },
     "execution_count": 103,
     "metadata": {},
     "output_type": "execute_result"
    },
    {
     "data": {
      "image/png": "[encoded data removed]",
      "text/plain": [
       "<Figure size 640x480 with 2 Axes>"
      ]
     },
     "metadata": {},
     "output_type": "display_data"
    }
   ],
   "source": [
    "ConfusionMatrixDisplay.from_predictions(\n",
    "    y_true = y_test, \n",
    "    y_pred = knn_predictions, \n",
    "    labels = ['no','yes'],\n",
    "    display_labels=[\"Didn't Subscribe\",'Subscribed']\n",
    ")\n",
    "plt.title('K Nearest Neighbors Model')"
   ]
  },
  {
   "cell_type": "code",
   "execution_count": 101,
   "id": "ba0e88cc",
   "metadata": {},
   "outputs": [
    {
     "name": "stdout",
     "output_type": "stream",
     "text": [
      "y_test(yes, no) :: (1587,11977)\n",
      "knn_predictions(yes, no) :: (946,12618)\n"
     ]
    }
   ],
   "source": [
    "print(f'y_test(yes, no) :: ({list(y_test).count(\"yes\")},{list(y_test).count(\"no\")})')\n",
    "print(f'knn_predictions(yes, no) :: ({list(knn_predictions).count(\"yes\")},{list(knn_predictions).count(\"no\")})')"
   ]
  },
  {
   "cell_type": "markdown",
   "id": "e1f8d2c9",
   "metadata": {},
   "source": [
    "#### Logistic Regression"
   ]
  },
  {
   "cell_type": "code",
   "execution_count": 36,
   "id": "1ea331ba",
   "metadata": {},
   "outputs": [],
   "source": [
    "from sklearn.linear_model import LogisticRegression"
   ]
  },
  {
   "cell_type": "code",
   "execution_count": 37,
   "id": "df1dc974",
   "metadata": {},
   "outputs": [
    {
     "name": "stdout",
     "output_type": "stream",
     "text": [
      "CPU times: total: 22.2 s\n",
      "Wall time: 3.17 s\n"
     ]
    },
    {
     "data": {
      "text/plain": [
       "GridSearchCV(cv=5, estimator=LogisticRegression(),\n",
       "             param_grid={'C': [0.1, 1, 10, 100], 'penalty': ['l1', 'l2']})"
      ]
     },
     "execution_count": 37,
     "metadata": {},
     "output_type": "execute_result"
    }
   ],
   "source": [
    "%%time\n",
    "lr_model = LogisticRegression()\n",
    "param_grid = {\n",
    "    'penalty': ['l1', 'l2'],\n",
    "    'C': [0.1, 1, 10, 100]\n",
    "}\n",
    "lr_grid = GridSearchCV(lr_model, param_grid, cv=5)\n",
    "lr_grid.fit(X_train_tx, y_train)"
   ]
  },
  {
   "cell_type": "code",
   "execution_count": 59,
   "id": "cca7fb80",
   "metadata": {},
   "outputs": [
    {
     "name": "stdout",
     "output_type": "stream",
     "text": [
      "Best parameters: {'C': 0.1, 'penalty': 'l2'}\n",
      "Best score: 0.8983157645652786\n"
     ]
    }
   ],
   "source": [
    "# Print the best parameters and score\n",
    "print(\"Best parameters:\", lr_grid.best_params_)\n",
    "print(\"Best score:\", lr_grid.best_score_)"
   ]
  },
  {
   "cell_type": "code",
   "execution_count": 79,
   "id": "197261da",
   "metadata": {},
   "outputs": [
    {
     "data": {
      "text/html": [
       "<div>\n",
       "<style scoped>\n",
       "    .dataframe tbody tr th:only-of-type {\n",
       "        vertical-align: middle;\n",
       "    }\n",
       "\n",
       "    .dataframe tbody tr th {\n",
       "        vertical-align: top;\n",
       "    }\n",
       "\n",
       "    .dataframe thead th {\n",
       "        text-align: right;\n",
       "    }\n",
       "</style>\n",
       "<table border=\"1\" class=\"dataframe\">\n",
       "  <thead>\n",
       "    <tr style=\"text-align: right;\">\n",
       "      <th></th>\n",
       "      <th>feature</th>\n",
       "      <th>weight</th>\n",
       "      <th>abs_weight</th>\n",
       "    </tr>\n",
       "  </thead>\n",
       "  <tbody>\n",
       "    <tr>\n",
       "      <th>4</th>\n",
       "      <td>housing_yes</td>\n",
       "      <td>-1.539172</td>\n",
       "      <td>1.539172</td>\n",
       "    </tr>\n",
       "    <tr>\n",
       "      <th>9</th>\n",
       "      <td>poutcome_unknown</td>\n",
       "      <td>-1.132855</td>\n",
       "      <td>1.132855</td>\n",
       "    </tr>\n",
       "    <tr>\n",
       "      <th>8</th>\n",
       "      <td>poutcome_success</td>\n",
       "      <td>0.868394</td>\n",
       "      <td>0.868394</td>\n",
       "    </tr>\n",
       "    <tr>\n",
       "      <th>5</th>\n",
       "      <td>loan_yes</td>\n",
       "      <td>-0.516878</td>\n",
       "      <td>0.516878</td>\n",
       "    </tr>\n",
       "    <tr>\n",
       "      <th>1</th>\n",
       "      <td>marital_married</td>\n",
       "      <td>-0.437404</td>\n",
       "      <td>0.437404</td>\n",
       "    </tr>\n",
       "    <tr>\n",
       "      <th>6</th>\n",
       "      <td>poutcome_failure</td>\n",
       "      <td>-0.299531</td>\n",
       "      <td>0.299531</td>\n",
       "    </tr>\n",
       "    <tr>\n",
       "      <th>11</th>\n",
       "      <td>education</td>\n",
       "      <td>-0.239523</td>\n",
       "      <td>0.239523</td>\n",
       "    </tr>\n",
       "    <tr>\n",
       "      <th>2</th>\n",
       "      <td>marital_single</td>\n",
       "      <td>-0.161228</td>\n",
       "      <td>0.161228</td>\n",
       "    </tr>\n",
       "    <tr>\n",
       "      <th>14</th>\n",
       "      <td>campaign</td>\n",
       "      <td>-0.143848</td>\n",
       "      <td>0.143848</td>\n",
       "    </tr>\n",
       "    <tr>\n",
       "      <th>10</th>\n",
       "      <td>job</td>\n",
       "      <td>-0.072890</td>\n",
       "      <td>0.072890</td>\n",
       "    </tr>\n",
       "    <tr>\n",
       "      <th>3</th>\n",
       "      <td>default_yes</td>\n",
       "      <td>-0.064698</td>\n",
       "      <td>0.064698</td>\n",
       "    </tr>\n",
       "    <tr>\n",
       "      <th>7</th>\n",
       "      <td>poutcome_other</td>\n",
       "      <td>-0.059305</td>\n",
       "      <td>0.059305</td>\n",
       "    </tr>\n",
       "    <tr>\n",
       "      <th>15</th>\n",
       "      <td>previous</td>\n",
       "      <td>0.041899</td>\n",
       "      <td>0.041899</td>\n",
       "    </tr>\n",
       "    <tr>\n",
       "      <th>0</th>\n",
       "      <td>marital_divorced</td>\n",
       "      <td>-0.024665</td>\n",
       "      <td>0.024665</td>\n",
       "    </tr>\n",
       "    <tr>\n",
       "      <th>13</th>\n",
       "      <td>duration</td>\n",
       "      <td>0.004157</td>\n",
       "      <td>0.004157</td>\n",
       "    </tr>\n",
       "    <tr>\n",
       "      <th>12</th>\n",
       "      <td>age</td>\n",
       "      <td>0.000102</td>\n",
       "      <td>0.000102</td>\n",
       "    </tr>\n",
       "  </tbody>\n",
       "</table>\n",
       "</div>"
      ],
      "text/plain": [
       "             feature    weight  abs_weight\n",
       "4        housing_yes -1.539172    1.539172\n",
       "9   poutcome_unknown -1.132855    1.132855\n",
       "8   poutcome_success  0.868394    0.868394\n",
       "5           loan_yes -0.516878    0.516878\n",
       "1    marital_married -0.437404    0.437404\n",
       "6   poutcome_failure -0.299531    0.299531\n",
       "11         education -0.239523    0.239523\n",
       "2     marital_single -0.161228    0.161228\n",
       "14          campaign -0.143848    0.143848\n",
       "10               job -0.072890    0.072890\n",
       "3        default_yes -0.064698    0.064698\n",
       "7     poutcome_other -0.059305    0.059305\n",
       "15          previous  0.041899    0.041899\n",
       "0   marital_divorced -0.024665    0.024665\n",
       "13          duration  0.004157    0.004157\n",
       "12               age  0.000102    0.000102"
      ]
     },
     "execution_count": 79,
     "metadata": {},
     "output_type": "execute_result"
    }
   ],
   "source": [
    "# let us get the coefficients of the features used in the best estimator\n",
    "lr_feature_weights = pd.DataFrame({\n",
    "    'feature': tx_feature_names,\n",
    "    'weight': lr_grid.best_estimator_.coef_[0]\n",
    "})\n",
    "lr_feature_weights['abs_weight'] = abs(lr_feature_weights['weight'])\n",
    "\n",
    "lr_feature_weights.sort_values(by=['abs_weight'], ascending=False)"
   ]
  }
 ],
 "metadata": {
  "kernelspec": {
   "display_name": "Python 3 (ipykernel)",
   "language": "python",
   "name": "python3"
  },
  "language_info": {
   "codemirror_mode": {
    "name": "ipython",
    "version": 3
   },
   "file_extension": ".py",
   "mimetype": "text/x-python",
   "name": "python",
   "nbconvert_exporter": "python",
   "pygments_lexer": "ipython3",
   "version": "3.9.13"
  }
 },
 "nbformat": 4,
 "nbformat_minor": 5
}
